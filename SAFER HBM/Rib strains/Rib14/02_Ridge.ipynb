{
 "cells": [
  {
   "cell_type": "markdown",
   "metadata": {},
   "source": [
    "# sklearn.linear_model.Ridge\n",
    "- Linear least squares with l2 regularization.\n",
    "\n",
    "- Minimizes the objective function:\n",
    "\n",
    "- ||y - Xw||^2_2 + alpha * ||w||^2_2\n",
    "- This model solves a regression model where the loss function is the linear least squares function and regularization is given by the l2-norm. Also known as Ridge Regression or Tikhonov regularization. This estimator has built-in support for multi-variate regression (i.e., when y is a 2d-array of shape (n_samples, n_targets))."
   ]
  },
  {
   "cell_type": "code",
   "execution_count": 1,
   "metadata": {},
   "outputs": [],
   "source": [
    "from sklearn.metrics import r2_score, mean_squared_error\n",
    "from sklearn.model_selection import KFold\n",
    "from sklearn.model_selection import learning_curve\n",
    "from sklearn.model_selection import validation_curve\n",
    "import seaborn as sns\n",
    "import numpy as np\n",
    "import pandas as pd\n",
    "import matplotlib.pyplot as plt\n",
    "from sklearn.model_selection import GridSearchCV\n",
    "from sklearn.model_selection import train_test_split\n",
    "from sklearn.model_selection import RandomizedSearchCV\n",
    "from yellowbrick.model_selection import ValidationCurve\n",
    "from sklearn.linear_model import Ridge"
   ]
  },
  {
   "cell_type": "code",
   "execution_count": 4,
   "metadata": {},
   "outputs": [],
   "source": [
    "Data=pd.read_csv('140_crash.csv')\n",
    "Data=Data[0:130]\n",
    "\n",
    "Head = Data.columns[14]\n",
    "Chest_deflection =  Data.columns[13]\n",
    "Head_acceleration = Data.columns[15]\n",
    "neck_force = Data.columns[16]\n",
    "\n",
    "X=Data[Data.columns[0:13]]\n",
    "y=Data[Chest_deflection]"
   ]
  },
  {
   "cell_type": "markdown",
   "metadata": {},
   "source": [
    "# Validation curves"
   ]
  },
  {
   "cell_type": "markdown",
   "metadata": {},
   "source": [
    "# alpha\n",
    "- float, default=1.0\n",
    "- Constant that multiplies the L1 term. Defaults to 1.0. alpha = 0 is equivalent to an ordinary least square, solved by the LinearRegression object. For numerical reasons, using alpha = 0 with the Lasso object is not advised. Given this, you should use the LinearRegression object."
   ]
  },
  {
   "cell_type": "code",
   "execution_count": 6,
   "metadata": {},
   "outputs": [
    {
     "data": {
      "image/png": "[encoded data removed]",
      "text/plain": [
       "<Figure size 576x396 with 1 Axes>"
      ]
     },
     "metadata": {},
     "output_type": "display_data"
    }
   ],
   "source": [
    "x_train, x_test, y_train, y_test = train_test_split(X, y, test_size=0.2, random_state=42)\n",
    "learning_rates =  np.logspace(-8, -7, 50)\n",
    "train_results = []\n",
    "test_results = []\n",
    "for eta in learning_rates:\n",
    "    model = Ridge(alpha=eta)\n",
    "    model.fit(x_train, y_train)\n",
    "    train_pred = model.predict(x_train)\n",
    "    ax=mean_squared_error(y_train, train_pred,squared=False)\n",
    "    train_results.append(ax)\n",
    "    y_pred = model.predict(x_test)\n",
    "    ax=mean_squared_error(y_test, y_pred,squared=False)\n",
    "    test_results.append(ax)\n",
    "from matplotlib.legend_handler import HandlerLine2D\n",
    "line1, = plt.plot(learning_rates, train_results, 'b', label=\"Train error\")\n",
    "line2, = plt.plot(learning_rates, test_results, 'r', label=\"Test error\")\n",
    "plt.legend(handler_map={line1: HandlerLine2D(numpoints=2)})\n",
    "plt.ylabel('RMS')\n",
    "plt.xlabel(' alpha')\n",
    "plt.show()"
   ]
  },
  {
   "cell_type": "markdown",
   "metadata": {},
   "source": [
    "---\n",
    "---"
   ]
  },
  {
   "cell_type": "markdown",
   "metadata": {},
   "source": [
    "# Random Hyperparameter Grid"
   ]
  },
  {
   "cell_type": "code",
   "execution_count": 7,
   "metadata": {},
   "outputs": [],
   "source": [
    "alpha = np.linspace(1e-06, 1e-05, 50, endpoint=True)\n",
    "solver=['auto', 'svd', 'cholesky', 'lsqr', 'sparse_cg', 'sag', 'saga']\n",
    "normalize=[True,False]\n",
    "\n",
    "\n",
    "random_grid = {\"alpha\" :alpha,\n",
    "               \"normalize\":normalize,\n",
    "               \"solver\":solver}"
   ]
  },
  {
   "cell_type": "code",
   "execution_count": 10,
   "metadata": {},
   "outputs": [
    {
     "name": "stdout",
     "output_type": "stream",
     "text": [
      "Fitting 10 folds for each of 200 candidates, totalling 2000 fits\n"
     ]
    },
    {
     "name": "stderr",
     "output_type": "stream",
     "text": [
      "[Parallel(n_jobs=-1)]: Using backend LokyBackend with 12 concurrent workers.\n",
      "[Parallel(n_jobs=-1)]: Done  17 tasks      | elapsed:    4.9s\n",
      "[Parallel(n_jobs=-1)]: Done 360 tasks      | elapsed:    5.5s\n",
      "[Parallel(n_jobs=-1)]: Done 2000 out of 2000 | elapsed:    7.6s finished\n"
     ]
    },
    {
     "data": {
      "text/plain": [
       "RandomizedSearchCV(cv=10, estimator=Ridge(), n_iter=200, n_jobs=-1,\n",
       "                   param_distributions={'alpha': array([1.00000000e-06, 1.18367347e-06, 1.36734694e-06, 1.55102041e-06,\n",
       "       1.73469388e-06, 1.91836735e-06, 2.10204082e-06, 2.28571429e-06,\n",
       "       2.46938776e-06, 2.65306122e-06, 2.83673469e-06, 3.02040816e-06,\n",
       "       3.20408163e-06, 3.38775510e-06, 3.57142857e-06, 3.75510204e-06,\n",
       "       3.93877551...\n",
       "       6.87755102e-06, 7.06122449e-06, 7.24489796e-06, 7.42857143e-06,\n",
       "       7.61224490e-06, 7.79591837e-06, 7.97959184e-06, 8.16326531e-06,\n",
       "       8.34693878e-06, 8.53061224e-06, 8.71428571e-06, 8.89795918e-06,\n",
       "       9.08163265e-06, 9.26530612e-06, 9.44897959e-06, 9.63265306e-06,\n",
       "       9.81632653e-06, 1.00000000e-05]),\n",
       "                                        'normalize': [True, False],\n",
       "                                        'solver': ['auto', 'svd', 'cholesky',\n",
       "                                                   'lsqr', 'sparse_cg', 'sag',\n",
       "                                                   'saga']},\n",
       "                   random_state=42, verbose=2)"
      ]
     },
     "execution_count": 10,
     "metadata": {},
     "output_type": "execute_result"
    }
   ],
   "source": [
    "# Use the random grid to search for best hyperparameters\n",
    "# First create the base model to tune\n",
    "rf = Ridge()\n",
    "# search across 100 different combinations, and use all available cores\n",
    "rf_random = RandomizedSearchCV(estimator = rf, param_distributions = random_grid, n_iter = 200, cv = 10, verbose=2, random_state=42, n_jobs = -1)\n",
    "# Fit the random search model\n",
    "rf_random.fit(X,y)"
   ]
  },
  {
   "cell_type": "code",
   "execution_count": 11,
   "metadata": {},
   "outputs": [
    {
     "data": {
      "text/plain": [
       "Ridge(alpha=1e-06)"
      ]
     },
     "execution_count": 11,
     "metadata": {},
     "output_type": "execute_result"
    }
   ],
   "source": [
    "rf_random.best_estimator_"
   ]
  },
  {
   "cell_type": "code",
   "execution_count": 12,
   "metadata": {},
   "outputs": [],
   "source": [
    "mod=Ridge(alpha=1e-06)"
   ]
  },
  {
   "cell_type": "code",
   "execution_count": 13,
   "metadata": {},
   "outputs": [
    {
     "name": "stderr",
     "output_type": "stream",
     "text": [
      "C:\\Users\\ypyas\\anaconda3\\lib\\site-packages\\sklearn\\model_selection\\_split.py:293: FutureWarning: Setting a random_state has no effect since shuffle is False. This will raise an error in 0.24. You should leave random_state to its default (None), or set shuffle=True.\n",
      "  warnings.warn(\n"
     ]
    }
   ],
   "source": [
    "cv = KFold(n_splits=10, random_state=1)"
   ]
  },
  {
   "cell_type": "code",
   "execution_count": 14,
   "metadata": {},
   "outputs": [],
   "source": [
    "y_actual = []\n",
    "predict = []\n",
    "X, X_Test, y, y_Test = train_test_split(X, y, test_size=0.2, random_state=42)\n",
    "train_size,train_score,test_score=learning_curve(mod,X,y,cv=cv,scoring='neg_root_mean_squared_error')\n"
   ]
  },
  {
   "cell_type": "code",
   "execution_count": 15,
   "metadata": {},
   "outputs": [
    {
     "data": {
      "text/plain": [
       "<Figure size 576x396 with 0 Axes>"
      ]
     },
     "metadata": {},
     "output_type": "display_data"
    },
    {
     "data": {
      "image/png": "[encoded data removed]",
      "text/plain": [
       "<Figure size 576x396 with 1 Axes>"
      ]
     },
     "metadata": {},
     "output_type": "display_data"
    }
   ],
   "source": [
    "\n",
    "train_mean=-np.mean(train_score,axis=1)\n",
    "train_std=-np.std(train_score,axis=1)\n",
    "test_mean=-np.mean(test_score,axis=1)\n",
    "test_std=-np.std(test_score,axis=1)\n",
    "    \n",
    "plt.figure()\n",
    "plt.subplots(1)\n",
    "plt.plot(train_size,train_mean, 'o-', color=\"b\",label=\"Training score\")\n",
    "plt.plot(train_size, test_mean, 'o-', color=\"g\",label=\"Cross-validation score\")\n",
    "plt.fill_between(train_size, train_mean - train_std, train_mean + train_std, alpha=0.2)\n",
    "plt.fill_between(train_size, test_mean - test_std, test_mean + test_std, alpha=0.2)\n",
    "plt.title(\"Learning Curve for {}\".format(str(mod).split('(')[0]))\n",
    "plt.xlabel(\"Training Set Size\")\n",
    "plt.ylabel(\"RMS Error\")\n",
    "plt.legend(loc=\"best\")\n",
    "plt.show()"
   ]
  },
  {
   "cell_type": "code",
   "execution_count": 16,
   "metadata": {},
   "outputs": [],
   "source": [
    "X = X.to_numpy()\n",
    "y = y.to_numpy()\n"
   ]
  },
  {
   "cell_type": "code",
   "execution_count": 17,
   "metadata": {},
   "outputs": [],
   "source": [
    "y_Test=y_Test.to_numpy()"
   ]
  },
  {
   "cell_type": "code",
   "execution_count": 18,
   "metadata": {},
   "outputs": [
    {
     "name": "stdout",
     "output_type": "stream",
     "text": [
      "Root Mean squared error: 2.616500\n",
      "\n",
      "Root Mean squared error: 2.277281\n",
      "\n",
      "Root Mean squared error: 2.129939\n",
      "\n",
      "Root Mean squared error: 2.577144\n",
      "\n",
      "Root Mean squared error: 2.831899\n",
      "\n",
      "Root Mean squared error: 1.621553\n",
      "\n",
      "Root Mean squared error: 2.648058\n",
      "\n",
      "Root Mean squared error: 3.610149\n",
      "\n",
      "Root Mean squared error: 1.470008\n",
      "\n",
      "Root Mean squared error: 2.343249\n",
      "\n",
      "error COV--->0    0.956486\n",
      "dtype: float64  error mean --->0    1.610356\n",
      "Name: mean, dtype: float64  error std --->0    1.540284\n",
      "Name: std, dtype: float64\n"
     ]
    }
   ],
   "source": [
    "kf=cv\n",
    "\n",
    "for train_index, test_index in kf.split(X):\n",
    "    X_train, X_test = X[train_index], X[test_index]\n",
    "    y_train, y_test = y[train_index], y[test_index]\n",
    "    HBM_Train = mod.fit(X_train, y_train)\n",
    "    HBM_Test = HBM_Train.predict(X_test)\n",
    "    print('Root Mean squared error: %f'\n",
    "          % mean_squared_error(y_test, HBM_Test,squared=False))\n",
    "    print()\n",
    "\n",
    "ytestunk=HBM_Train.predict(X_Test)\n",
    "err=np.zeros(len(ytestunk))\n",
    "for u in range (0,len(ytestunk)):\n",
    "    err[u]=np.sqrt((y_Test[u]-ytestunk[u])**2)\n",
    "a=pd.DataFrame(err).describe()\n",
    "cov_r=a.loc['std']/abs(a.loc['mean'])\n",
    "print(\"error COV--->{}  error mean --->{}  error std --->{}\".format(cov_r,abs(a.loc['mean']),a.loc['std']))"
   ]
  },
  {
   "cell_type": "markdown",
   "metadata": {},
   "source": [
    "---\n",
    "---"
   ]
  },
  {
   "cell_type": "markdown",
   "metadata": {},
   "source": [
    "# Grid search"
   ]
  },
  {
   "cell_type": "code",
   "execution_count": 53,
   "metadata": {},
   "outputs": [],
   "source": [
    "alpha = np.linspace(1e-06, 1e-03, 100, endpoint=True)\n",
    "solver=['auto', 'svd', 'cholesky', 'lsqr', 'sparse_cg', 'sag', 'saga']\n",
    "normalize=[True,False]\n",
    "\n",
    "\n",
    "random_grid = {\"alpha\" :alpha,\n",
    "               \"normalize\":normalize,\n",
    "               \"solver\":solver}"
   ]
  },
  {
   "cell_type": "code",
   "execution_count": 54,
   "metadata": {},
   "outputs": [],
   "source": [
    "Data=pd.read_csv('140_crash.csv')\n",
    "Data=Data[0:130]\n",
    "\n",
    "Head = Data.columns[14]\n",
    "Chest_deflection =  Data.columns[13]\n",
    "Head_acceleration = Data.columns[15]\n",
    "neck_force = Data.columns[16]\n",
    "\n",
    "X=Data[Data.columns[0:13]]\n",
    "y=Data[Head]"
   ]
  },
  {
   "cell_type": "code",
   "execution_count": 55,
   "metadata": {},
   "outputs": [
    {
     "name": "stdout",
     "output_type": "stream",
     "text": [
      "Fitting 10 folds for each of 1400 candidates, totalling 14000 fits\n"
     ]
    },
    {
     "name": "stderr",
     "output_type": "stream",
     "text": [
      "[Parallel(n_jobs=-1)]: Using backend LokyBackend with 12 concurrent workers.\n",
      "[Parallel(n_jobs=-1)]: Done  17 tasks      | elapsed:    0.0s\n",
      "[Parallel(n_jobs=-1)]: Done 1032 tasks      | elapsed:    1.5s\n",
      "[Parallel(n_jobs=-1)]: Done 4280 tasks      | elapsed:    6.0s\n",
      "[Parallel(n_jobs=-1)]: Done 8808 tasks      | elapsed:   12.3s\n",
      "[Parallel(n_jobs=-1)]: Done 14000 out of 14000 | elapsed:   19.4s finished\n"
     ]
    },
    {
     "data": {
      "text/plain": [
       "GridSearchCV(cv=KFold(n_splits=10, random_state=1, shuffle=False),\n",
       "             estimator=Ridge(), n_jobs=-1,\n",
       "             param_grid={'alpha': array([1.00000000e-06, 1.10909091e-05, 2.11818182e-05, 3.12727273e-05,\n",
       "       4.13636364e-05, 5.14545455e-05, 6.15454545e-05, 7.16363636e-05,\n",
       "       8.17272727e-05, 9.18181818e-05, 1.01909091e-04, 1.12000000e-04,\n",
       "       1.22090909e-04, 1.32181818e-04, 1.42272727e-04, 1.5236...\n",
       "       8.48636364e-04, 8.58727273e-04, 8.68818182e-04, 8.78909091e-04,\n",
       "       8.89000000e-04, 8.99090909e-04, 9.09181818e-04, 9.19272727e-04,\n",
       "       9.29363636e-04, 9.39454545e-04, 9.49545455e-04, 9.59636364e-04,\n",
       "       9.69727273e-04, 9.79818182e-04, 9.89909091e-04, 1.00000000e-03]),\n",
       "                         'normalize': [True, False],\n",
       "                         'solver': ['auto', 'svd', 'cholesky', 'lsqr',\n",
       "                                    'sparse_cg', 'sag', 'saga']},\n",
       "             return_train_score=True, scoring='neg_root_mean_squared_error',\n",
       "             verbose=2)"
      ]
     },
     "execution_count": 55,
     "metadata": {},
     "output_type": "execute_result"
    }
   ],
   "source": [
    "rf = Ridge()\n",
    "reg = GridSearchCV(rf,param_grid = random_grid ,cv = cv, return_train_score=True,scoring=\"neg_root_mean_squared_error\", verbose=2, n_jobs = -1)\n",
    "reg.fit(X,y)\n",
    "    "
   ]
  },
  {
   "cell_type": "code",
   "execution_count": 56,
   "metadata": {},
   "outputs": [
    {
     "data": {
      "text/plain": [
       "Ridge(alpha=1e-06)"
      ]
     },
     "execution_count": 56,
     "metadata": {},
     "output_type": "execute_result"
    }
   ],
   "source": [
    "reg.best_estimator_"
   ]
  },
  {
   "cell_type": "markdown",
   "metadata": {},
   "source": [
    "---\n",
    "---"
   ]
  },
  {
   "cell_type": "code",
   "execution_count": 57,
   "metadata": {},
   "outputs": [],
   "source": [
    "#chest\n",
    "# mod=Ridge(alpha=1e-06)\n",
    "# Neck\n",
    "# mod=Ridge(alpha=1.1090909090909092e-05, solver='svd')\n",
    "#ha acc\n",
    "# mod=Ridge(alpha=0.000989909090909091, normalize=True, solver='saga')\n",
    "#HIC\n",
    "mod=Ridge(alpha=1e-06)"
   ]
  },
  {
   "cell_type": "code",
   "execution_count": 58,
   "metadata": {},
   "outputs": [
    {
     "name": "stderr",
     "output_type": "stream",
     "text": [
      "C:\\Users\\ypyas\\anaconda3\\lib\\site-packages\\sklearn\\model_selection\\_split.py:293: FutureWarning: Setting a random_state has no effect since shuffle is False. This will raise an error in 0.24. You should leave random_state to its default (None), or set shuffle=True.\n",
      "  warnings.warn(\n"
     ]
    }
   ],
   "source": [
    "cv = KFold(n_splits=10, random_state=1)"
   ]
  },
  {
   "cell_type": "code",
   "execution_count": 59,
   "metadata": {},
   "outputs": [],
   "source": [
    "y_actual = []\n",
    "predict = []\n",
    "X, X_Test, y, y_Test = train_test_split(X, y, test_size=0.2, random_state=42)\n",
    "train_size,train_score,test_score=learning_curve(mod,X,y,cv=cv,scoring='neg_root_mean_squared_error')\n",
    "kf=cv"
   ]
  },
  {
   "cell_type": "markdown",
   "metadata": {},
   "source": [
    "## Learning Curve"
   ]
  },
  {
   "cell_type": "code",
   "execution_count": 60,
   "metadata": {},
   "outputs": [
    {
     "data": {
      "text/plain": [
       "<Figure size 576x396 with 0 Axes>"
      ]
     },
     "metadata": {},
     "output_type": "display_data"
    },
    {
     "data": {
      "image/png": "[encoded data removed]",
      "text/plain": [
       "<Figure size 576x396 with 1 Axes>"
      ]
     },
     "metadata": {},
     "output_type": "display_data"
    }
   ],
   "source": [
    "train_mean=-np.mean(train_score,axis=1)\n",
    "train_std=-np.std(train_score,axis=1)\n",
    "test_mean=-np.mean(test_score,axis=1)\n",
    "test_std=-np.std(test_score,axis=1)\n",
    "    \n",
    "plt.figure()\n",
    "plt.subplots(1)\n",
    "plt.plot(train_size,train_mean, 'o-', color=\"b\",label=\"Training score\")\n",
    "plt.plot(train_size, test_mean, 'o-', color=\"g\",label=\"Cross-validation score\")\n",
    "plt.fill_between(train_size, train_mean - train_std, train_mean + train_std, alpha=0.2)\n",
    "plt.fill_between(train_size, test_mean - test_std, test_mean + test_std, alpha=0.2)\n",
    "plt.title(\"Learning Curve for {}\".format(str(mod).split('(')[0]))\n",
    "plt.xlabel(\"Training Set Size\")\n",
    "plt.ylabel(\"RMS Error\")\n",
    "plt.legend(loc=\"best\")\n",
    "plt.show()"
   ]
  },
  {
   "cell_type": "markdown",
   "metadata": {},
   "source": [
    "## Unknown data test"
   ]
  },
  {
   "cell_type": "code",
   "execution_count": 61,
   "metadata": {},
   "outputs": [
    {
     "name": "stdout",
     "output_type": "stream",
     "text": [
      "Root Mean squared error: 103.171194\n",
      "\n",
      "Root Mean squared error: 36.579243\n",
      "\n",
      "Root Mean squared error: 45.707126\n",
      "\n",
      "Root Mean squared error: 114.067901\n",
      "\n",
      "Root Mean squared error: 57.606104\n",
      "\n",
      "Root Mean squared error: 66.119030\n",
      "\n",
      "Root Mean squared error: 33.878596\n",
      "\n",
      "Root Mean squared error: 78.933032\n",
      "\n",
      "Root Mean squared error: 80.136140\n",
      "\n",
      "Root Mean squared error: 58.852408\n",
      "\n",
      "error COV--->0    0.811532\n",
      "dtype: float64  error mean --->0    48.727684\n",
      "Name: mean, dtype: float64  error std --->0    39.544091\n",
      "Name: std, dtype: float64\n"
     ]
    }
   ],
   "source": [
    "X = X.to_numpy()\n",
    "y = y.to_numpy()\n",
    "y_Test=y_Test.to_numpy()\n",
    "for train_index, test_index in kf.split(X):\n",
    "    X_train, X_test = X[train_index], X[test_index]\n",
    "    y_train, y_test = y[train_index], y[test_index]\n",
    "    HBM_Train = mod.fit(X_train, y_train)\n",
    "    HBM_Test = HBM_Train.predict(X_test)\n",
    "    print('Root Mean squared error: %f'\n",
    "          % mean_squared_error(y_test, HBM_Test,squared=False))\n",
    "    print()\n",
    "\n",
    "ytestunk=HBM_Train.predict(X_Test)\n",
    "err=np.zeros(len(ytestunk))\n",
    "for u in range (0,len(ytestunk)):\n",
    "    err[u]=np.sqrt((y_Test[u]-ytestunk[u])**2)\n",
    "a=pd.DataFrame(err).describe()\n",
    "cov_r=a.loc['std']/abs(a.loc['mean'])\n",
    "print(\"error COV--->{}  error mean --->{}  error std --->{}\".format(cov_r,abs(a.loc['mean']),a.loc['std']))"
   ]
  },
  {
   "cell_type": "markdown",
   "metadata": {},
   "source": [
    "# train score"
   ]
  },
  {
   "cell_type": "code",
   "execution_count": 62,
   "metadata": {},
   "outputs": [
    {
     "name": "stdout",
     "output_type": "stream",
     "text": [
      "error COV--->0    0.909255\n",
      "dtype: float64  error mean --->0    47.420328\n",
      "Name: mean, dtype: float64  error std --->0    43.117174\n",
      "Name: std, dtype: float64\n"
     ]
    }
   ],
   "source": [
    "ytestunk=HBM_Train.predict(X)\n",
    "err=np.zeros(len(ytestunk))\n",
    "for u in range (0,len(ytestunk)):\n",
    "    err[u]=np.sqrt((y[u]-ytestunk[u])**2)\n",
    "a=pd.DataFrame(err).describe()\n",
    "cov_r=a.loc['std']/abs(a.loc['mean'])\n",
    "print(\"error COV--->{}  error mean --->{}  error std --->{}\".format(cov_r,abs(a.loc['mean']),a.loc['std']))"
   ]
  },
  {
   "cell_type": "code",
   "execution_count": null,
   "metadata": {},
   "outputs": [],
   "source": []
  }
 ],
 "metadata": {
  "kernelspec": {
   "display_name": "Python 3",
   "language": "python",
   "name": "python3"
  },
  "language_info": {
   "codemirror_mode": {
    "name": "ipython",
    "version": 3
   },
   "file_extension": ".py",
   "mimetype": "text/x-python",
   "name": "python",
   "nbconvert_exporter": "python",
   "pygments_lexer": "ipython3",
   "version": "3.8.5"
  }
 },
 "nbformat": 4,
 "nbformat_minor": 4
}
