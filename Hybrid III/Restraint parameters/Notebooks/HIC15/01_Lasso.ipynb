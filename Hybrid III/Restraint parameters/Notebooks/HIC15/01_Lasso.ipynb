{
 "cells": [
  {
   "cell_type": "markdown",
   "metadata": {},
   "source": [
    "# Lasso_Linear model"
   ]
  },
  {
   "cell_type": "code",
   "execution_count": 1,
   "metadata": {},
   "outputs": [],
   "source": [
    "from sklearn.metrics import r2_score, mean_squared_error\n",
    "from sklearn.model_selection import KFold\n",
    "from sklearn.model_selection import learning_curve\n",
    "from sklearn.model_selection import validation_curve\n",
    "from sklearn.model_selection import cross_val_score\n",
    "import seaborn as sns\n",
    "import numpy as np\n",
    "import pandas as pd\n",
    "import matplotlib.pyplot as plt\n",
    "from sklearn.linear_model import RidgeCV\n",
    "from sklearn.linear_model import Lasso\n",
    "from sklearn.model_selection import GridSearchCV\n",
    "from sklearn.linear_model import Ridge\n",
    "from sklearn.linear_model import ElasticNet\n",
    "from sklearn import tree\n",
    "from sklearn.model_selection import train_test_split\n",
    "from sklearn.pipeline import make_pipeline\n",
    "from yellowbrick.model_selection import LearningCurve\n",
    "from sklearn.model_selection import RandomizedSearchCV\n",
    "from yellowbrick.model_selection import ValidationCurve"
   ]
  },
  {
   "cell_type": "code",
   "execution_count": 2,
   "metadata": {},
   "outputs": [],
   "source": [
    "Data=pd.read_csv('Data/Result_dataset_130.csv')"
   ]
  },
  {
   "cell_type": "code",
   "execution_count": 3,
   "metadata": {},
   "outputs": [],
   "source": [
    "features = Data.columns[0:13]\n",
    "Head=Data.columns[14]\n",
    "X = Data[features]\n",
    "y = Data[Head]\n",
    "cv = KFold(n_splits=10)"
   ]
  },
  {
   "cell_type": "code",
   "execution_count": 143,
   "metadata": {},
   "outputs": [],
   "source": [
    "x_train, x_test, y_train, y_test = train_test_split(X, y, test_size=0.2, random_state=42)"
   ]
  },
  {
   "cell_type": "markdown",
   "metadata": {},
   "source": [
    "## Learning rate - alpha"
   ]
  },
  {
   "cell_type": "code",
   "execution_count": 144,
   "metadata": {},
   "outputs": [
    {
     "data": {
      "image/png": "[encoded data removed]",
      "text/plain": [
       "<Figure size 576x396 with 1 Axes>"
      ]
     },
     "metadata": {},
     "output_type": "display_data"
    }
   ],
   "source": [
    "n_estimators = np.linspace(1e-06, 0.1, 50, endpoint=True)\n",
    "train_results = []\n",
    "test_results = []\n",
    "for eta in n_estimators:\n",
    "    model = Lasso(alpha=eta)\n",
    "    model.fit(x_train, y_train)\n",
    "    train_pred = model.predict(x_train)\n",
    "    ax=mean_squared_error(y_train, train_pred,squared=False)\n",
    "    train_results.append(ax)\n",
    "    y_pred = model.predict(x_test)\n",
    "    ax=mean_squared_error(y_test, y_pred,squared=False)\n",
    "    test_results.append(ax)\n",
    "from matplotlib.legend_handler import HandlerLine2D\n",
    "line1, = plt.plot(n_estimators, train_results, 'b', label=\"Train error\")\n",
    "line2, = plt.plot(n_estimators, test_results, 'r', label=\"Test error\")\n",
    "plt.legend(handler_map={line1: HandlerLine2D(numpoints=2)})\n",
    "plt.ylabel('RMS')\n",
    "plt.xlabel('alpha')\n",
    "plt.show()\n"
   ]
  },
  {
   "cell_type": "markdown",
   "metadata": {},
   "source": [
    "## max_iterations"
   ]
  },
  {
   "cell_type": "code",
   "execution_count": null,
   "metadata": {},
   "outputs": [],
   "source": [
    "x_train, x_test, y_train, y_test = train_test_split(X, y, test_size=0.2, random_state=42)"
   ]
  },
  {
   "cell_type": "code",
   "execution_count": 145,
   "metadata": {},
   "outputs": [
    {
     "data": {
      "image/png": "[encoded data removed]",
      "text/plain": [
       "<Figure size 576x396 with 1 Axes>"
      ]
     },
     "metadata": {},
     "output_type": "display_data"
    }
   ],
   "source": [
    "n_estimators = np.arange(1000,5000,50)\n",
    "train_results = []\n",
    "test_results = []\n",
    "for eta in n_estimators:\n",
    "    model = Lasso(max_iter=eta)\n",
    "    model.fit(x_train, y_train)\n",
    "    train_pred = model.predict(x_train)\n",
    "    ax=mean_squared_error(y_train, train_pred,squared=False)\n",
    "    train_results.append(ax)\n",
    "    y_pred = model.predict(x_test)\n",
    "    ax=mean_squared_error(y_test, y_pred,squared=False)\n",
    "    test_results.append(ax)\n",
    "from matplotlib.legend_handler import HandlerLine2D\n",
    "line1, = plt.plot(n_estimators, train_results, 'b', label=\"Train error\")\n",
    "line2, = plt.plot(n_estimators, test_results, 'r', label=\"Test error\")\n",
    "plt.legend(handler_map={line1: HandlerLine2D(numpoints=2)})\n",
    "plt.ylabel('RMS')\n",
    "plt.xlabel('max_iter')\n",
    "plt.show()"
   ]
  },
  {
   "cell_type": "markdown",
   "metadata": {},
   "source": [
    "## Random Hyperparameter Grid\n",
    "### Randomized search "
   ]
  },
  {
   "cell_type": "code",
   "execution_count": 8,
   "metadata": {},
   "outputs": [],
   "source": [
    "X=Data[features]\n",
    "y=Data[Head]"
   ]
  },
  {
   "cell_type": "code",
   "execution_count": 147,
   "metadata": {},
   "outputs": [],
   "source": [
    "# HIC15\n",
    "alpha = np.linspace(1e-06, 0.1, 50, endpoint=True)\n",
    "max_iter= np.arange(200,5000,100)\n",
    "selection=['cyclic','random']\n",
    "\n",
    "random_grid = {\"alpha\" :alpha,\n",
    "               \"max_iter\":max_iter,\n",
    "               \"selection\":selection}"
   ]
  },
  {
   "cell_type": "code",
   "execution_count": 148,
   "metadata": {},
   "outputs": [
    {
     "name": "stdout",
     "output_type": "stream",
     "text": [
      "Fitting 10 folds for each of 100 candidates, totalling 1000 fits\n"
     ]
    },
    {
     "name": "stderr",
     "output_type": "stream",
     "text": [
      "[Parallel(n_jobs=-1)]: Using backend LokyBackend with 8 concurrent workers.\n",
      "[Parallel(n_jobs=-1)]: Done  36 tasks      | elapsed:    0.2s\n",
      "[Parallel(n_jobs=-1)]: Done 724 tasks      | elapsed:    4.0s\n",
      "[Parallel(n_jobs=-1)]: Done 1000 out of 1000 | elapsed:    4.4s finished\n"
     ]
    },
    {
     "data": {
      "text/plain": [
       "RandomizedSearchCV(cv=10, estimator=Lasso(), n_iter=100, n_jobs=-1,\n",
       "                   param_distributions={'alpha': array([1.00000000e-06, 2.04179592e-03, 4.08259184e-03, 6.12338776e-03,\n",
       "       8.16418367e-03, 1.02049796e-02, 1.22457755e-02, 1.42865714e-02,\n",
       "       1.63273673e-02, 1.83681633e-02, 2.04089592e-02, 2.24497551e-02,\n",
       "       2.44905510e-02, 2.65313469e-02, 2.85721429e-02, 3.06129388e-02,\n",
       "       3.26537347...\n",
       "       8.97960204e-02, 9.18368163e-02, 9.38776122e-02, 9.59184082e-02,\n",
       "       9.79592041e-02, 1.00000000e-01]),\n",
       "                                        'max_iter': array([ 200,  300,  400,  500,  600,  700,  800,  900, 1000, 1100, 1200,\n",
       "       1300, 1400, 1500, 1600, 1700, 1800, 1900, 2000, 2100, 2200, 2300,\n",
       "       2400, 2500, 2600, 2700, 2800, 2900, 3000, 3100, 3200, 3300, 3400,\n",
       "       3500, 3600, 3700, 3800, 3900, 4000, 4100, 4200, 4300, 4400, 4500,\n",
       "       4600, 4700, 4800, 4900]),\n",
       "                                        'selection': ['cyclic', 'random']},\n",
       "                   random_state=42, verbose=2)"
      ]
     },
     "execution_count": 148,
     "metadata": {},
     "output_type": "execute_result"
    }
   ],
   "source": [
    "# Use the random grid to search for best hyperparameters\n",
    "# First create the base model to tune\n",
    "rf = Lasso()\n",
    "# search across 100 different combinations, and use all available cores\n",
    "rf_random = RandomizedSearchCV(estimator = rf, param_distributions = random_grid, n_iter = 100, cv = 10, verbose=2, random_state=42, n_jobs = -1)\n",
    "# Fit the random search model\n",
    "rf_random.fit(X,y)"
   ]
  },
  {
   "cell_type": "code",
   "execution_count": 149,
   "metadata": {},
   "outputs": [
    {
     "data": {
      "text/plain": [
       "{'selection': 'random', 'max_iter': 4100, 'alpha': 1e-06}"
      ]
     },
     "execution_count": 149,
     "metadata": {},
     "output_type": "execute_result"
    }
   ],
   "source": [
    "rf_random.best_params_"
   ]
  },
  {
   "cell_type": "code",
   "execution_count": 4,
   "metadata": {},
   "outputs": [],
   "source": [
    "mod=Lasso(alpha = 1e-06,selection='random')"
   ]
  },
  {
   "cell_type": "code",
   "execution_count": 6,
   "metadata": {},
   "outputs": [
    {
     "name": "stderr",
     "output_type": "stream",
     "text": [
      "C:\\Users\\ypyas\\anaconda3\\lib\\site-packages\\sklearn\\linear_model\\_coordinate_descent.py:529: ConvergenceWarning: Objective did not converge. You might want to increase the number of iterations. Duality gap: 84.98185272140219, tolerance: 10.823953546660062\n",
      "  model = cd_fast.enet_coordinate_descent(\n"
     ]
    },
    {
     "data": {
      "text/plain": [
       "<Figure size 576x396 with 0 Axes>"
      ]
     },
     "metadata": {},
     "output_type": "display_data"
    },
    {
     "data": {
      "image/png": "[encoded data removed]",
      "text/plain": [
       "<Figure size 576x396 with 1 Axes>"
      ]
     },
     "metadata": {},
     "output_type": "display_data"
    }
   ],
   "source": [
    "cv = KFold(n_splits=10, random_state=1)\n",
    "y_actual = []\n",
    "predict = []\n",
    "X, X_Test, y, y_Test = train_test_split(X, y, test_size=0.2, random_state=42)\n",
    "train_size,train_score,test_score=learning_curve(mod,X,y,cv=cv,scoring='neg_mean_absolute_error')\n",
    "train_mean=-np.mean(train_score,axis=1)\n",
    "train_std=-np.std(train_score,axis=1)\n",
    "test_mean=-np.mean(test_score,axis=1)\n",
    "test_std=-np.std(test_score,axis=1)\n",
    "    \n",
    "plt.figure()\n",
    "plt.subplots(1)\n",
    "plt.plot(train_size,train_mean, 'o-', color=\"b\",label=\"Training score\")\n",
    "plt.plot(train_size, test_mean, 'o-', color=\"g\",label=\"Cross-validation score\")\n",
    "plt.fill_between(train_size, train_mean - train_std, train_mean + train_std, alpha=0.2)\n",
    "plt.fill_between(train_size, test_mean - test_std, test_mean + test_std, alpha=0.2)\n",
    "plt.title(\"Learning Curve for {}\".format(str(mod).split('(')[0]))\n",
    "plt.xlabel(\"Training Set Size\")\n",
    "plt.ylabel(\"RMS Error\")\n",
    "plt.legend(loc=\"best\")\n",
    "plt.show()"
   ]
  },
  {
   "cell_type": "code",
   "execution_count": 7,
   "metadata": {},
   "outputs": [
    {
     "name": "stdout",
     "output_type": "stream",
     "text": [
      "Root Mean squared error: 33.252604\n",
      "\n",
      "Root Mean squared error: 73.132600\n",
      "\n",
      "Root Mean squared error: 143.122391\n",
      "\n",
      "Root Mean squared error: 80.454491\n",
      "\n",
      "Root Mean squared error: 64.187049\n",
      "\n",
      "Root Mean squared error: 56.303935\n",
      "\n",
      "Root Mean squared error: 51.357643\n",
      "\n",
      "Root Mean squared error: 62.328882\n",
      "\n",
      "Root Mean squared error: 58.469085\n",
      "\n",
      "Root Mean squared error: 66.568232\n",
      "\n",
      "error COV--->0    0.919866\n",
      "dtype: float64  error mean --->0    63.741931\n",
      "Name: mean, dtype: float64  error std --->0    58.634036\n",
      "Name: std, dtype: float64\n"
     ]
    }
   ],
   "source": [
    "X = X.to_numpy()\n",
    "y = y.to_numpy()\n",
    "y_Test=y_Test.to_numpy()\n",
    "kf=cv\n",
    "\n",
    "for train_index, test_index in kf.split(X):\n",
    "    X_train, X_test = X[train_index], X[test_index]\n",
    "    y_train, y_test = y[train_index], y[test_index]\n",
    "    HBM_Train = mod.fit(X_train, y_train)\n",
    "    HBM_Test = HBM_Train.predict(X_test)\n",
    "    print('Root Mean squared error: %f'\n",
    "          % mean_squared_error(y_test, HBM_Test,squared=False))\n",
    "    print()\n",
    "\n",
    "ytestunk=HBM_Train.predict(X_Test)\n",
    "err=np.zeros(len(ytestunk))\n",
    "for u in range (0,len(ytestunk)):\n",
    "    err[u]=np.sqrt((y_Test[u]-ytestunk[u])**2)\n",
    "a=pd.DataFrame(err).describe()\n",
    "cov_r=a.loc['std']/abs(a.loc['mean'])\n",
    "print(\"error COV--->{}  error mean --->{}  error std --->{}\".format(cov_r,abs(a.loc['mean']),a.loc['std']))"
   ]
  },
  {
   "cell_type": "markdown",
   "metadata": {},
   "source": [
    "# Grid search"
   ]
  },
  {
   "cell_type": "code",
   "execution_count": 33,
   "metadata": {},
   "outputs": [],
   "source": [
    "\n",
    "#HIC15\n",
    "alpha = np.linspace(1e-07, 0.1, 200)\n",
    "# max_iter= np.arange(2000,2800,100)\n",
    "selection=['cyclic','random']\n",
    "\n",
    "random_grid = {\"alpha\" :alpha,\n",
    "#                \"max_iter\":max_iter,\n",
    "               \"selection\":selection}\n",
    "               "
   ]
  },
  {
   "cell_type": "code",
   "execution_count": 34,
   "metadata": {},
   "outputs": [],
   "source": [
    "Data=pd.read_csv('Result_dataset_130.csv')\n",
    "Head = Data.columns[14]\n",
    "Chest_deflection =  Data.columns[13]\n",
    "Head_acceleration = Data.columns[15]\n",
    "neck_force = Data.columns[16]\n",
    "features = Data.columns[0:13]\n",
    "X=Data[features]\n",
    "y=Data[Chest_deflection]"
   ]
  },
  {
   "cell_type": "code",
   "execution_count": 35,
   "metadata": {},
   "outputs": [
    {
     "name": "stdout",
     "output_type": "stream",
     "text": [
      "Fitting 10 folds for each of 400 candidates, totalling 4000 fits\n"
     ]
    },
    {
     "name": "stderr",
     "output_type": "stream",
     "text": [
      "[Parallel(n_jobs=-1)]: Using backend LokyBackend with 12 concurrent workers.\n",
      "[Parallel(n_jobs=-1)]: Done  17 tasks      | elapsed:    0.0s\n",
      "[Parallel(n_jobs=-1)]: Done 1032 tasks      | elapsed:    1.5s\n",
      "[Parallel(n_jobs=-1)]: Done 3815 tasks      | elapsed:    4.9s\n",
      "[Parallel(n_jobs=-1)]: Done 4000 out of 4000 | elapsed:    5.2s finished\n"
     ]
    },
    {
     "data": {
      "text/plain": [
       "GridSearchCV(cv=KFold(n_splits=10, random_state=1, shuffle=False),\n",
       "             estimator=Lasso(), n_jobs=-1,\n",
       "             param_grid={'alpha': array([1.00000000e-07, 5.02612060e-04, 1.00512412e-03, 1.50763618e-03,\n",
       "       2.01014824e-03, 2.51266030e-03, 3.01517236e-03, 3.51768442e-03,\n",
       "       4.02019648e-03, 4.52270854e-03, 5.02522060e-03, 5.52773266e-03,\n",
       "       6.03024472e-03, 6.53275678e-03, 7.03526884e-03, 7.5377...\n",
       "       9.04522709e-02, 9.09547829e-02, 9.14572950e-02, 9.19598070e-02,\n",
       "       9.24623191e-02, 9.29648312e-02, 9.34673432e-02, 9.39698553e-02,\n",
       "       9.44723673e-02, 9.49748794e-02, 9.54773915e-02, 9.59799035e-02,\n",
       "       9.64824156e-02, 9.69849276e-02, 9.74874397e-02, 9.79899518e-02,\n",
       "       9.84924638e-02, 9.89949759e-02, 9.94974879e-02, 1.00000000e-01]),\n",
       "                         'selection': ['cyclic', 'random']},\n",
       "             return_train_score=True, scoring='neg_root_mean_squared_error',\n",
       "             verbose=2)"
      ]
     },
     "execution_count": 35,
     "metadata": {},
     "output_type": "execute_result"
    }
   ],
   "source": [
    "rf = Lasso()\n",
    "reg = GridSearchCV(rf,param_grid = random_grid ,cv = cv, return_train_score=True,scoring=\"neg_root_mean_squared_error\", verbose=2, n_jobs = -1)\n",
    "reg.fit(X,y)"
   ]
  },
  {
   "cell_type": "code",
   "execution_count": 36,
   "metadata": {},
   "outputs": [
    {
     "data": {
      "text/plain": [
       "Lasso(alpha=1e-07, selection='random')"
      ]
     },
     "execution_count": 36,
     "metadata": {},
     "output_type": "execute_result"
    }
   ],
   "source": [
    "reg.best_estimator_"
   ]
  },
  {
   "cell_type": "code",
   "execution_count": 8,
   "metadata": {},
   "outputs": [],
   "source": [
    "X=Data[features]\n",
    "y=Data[Head]"
   ]
  },
  {
   "cell_type": "code",
   "execution_count": 9,
   "metadata": {},
   "outputs": [],
   "source": [
    "# mod=Lasso(alpha = 8e-07,selection='random',max_iter = 2700)\n",
    "mod=Lasso(alpha=1e-07, selection='random',max_iter=100000)"
   ]
  },
  {
   "cell_type": "code",
   "execution_count": 10,
   "metadata": {},
   "outputs": [
    {
     "name": "stderr",
     "output_type": "stream",
     "text": [
      "C:\\Users\\ypyas\\anaconda3\\lib\\site-packages\\sklearn\\model_selection\\_split.py:293: FutureWarning: Setting a random_state has no effect since shuffle is False. This will raise an error in 0.24. You should leave random_state to its default (None), or set shuffle=True.\n",
      "  warnings.warn(\n"
     ]
    }
   ],
   "source": [
    "cv = KFold(n_splits=10, random_state=1)\n",
    "y_actual = []\n",
    "predict = []\n",
    "# X, X_Test, y, y_Test = train_test_split(X, y, test_size=0.2, random_state=42)\n",
    "kf=cv"
   ]
  },
  {
   "cell_type": "code",
   "execution_count": 11,
   "metadata": {},
   "outputs": [
    {
     "data": {
      "text/plain": [
       "<Figure size 576x396 with 0 Axes>"
      ]
     },
     "metadata": {},
     "output_type": "display_data"
    },
    {
     "data": {
      "image/png": "[encoded data removed]",
      "text/plain": [
       "<Figure size 576x396 with 1 Axes>"
      ]
     },
     "metadata": {},
     "output_type": "display_data"
    }
   ],
   "source": [
    "# cv = KFold(n_splits=10, random_state=1)\n",
    "# y_actual = []\n",
    "# predict = []\n",
    "# X, X_Test, y, y_Test = train_test_split(X, y, test_size=0.2, random_state=42)\n",
    "train_size,train_score,test_score=learning_curve(mod,X,y,cv=cv,scoring='neg_mean_absolute_error')\n",
    "kf=cv\n",
    "train_mean=-np.mean(train_score,axis=1)\n",
    "train_std=-np.std(train_score,axis=1)\n",
    "test_mean=-np.mean(test_score,axis=1)\n",
    "test_std=-np.std(test_score,axis=1)\n",
    "    \n",
    "plt.figure()\n",
    "plt.subplots(1)\n",
    "plt.plot(train_size,train_mean, 'o-', color=\"b\",label=\"Training score\")\n",
    "plt.plot(train_size, test_mean, 'o-', color=\"g\",label=\"Cross-validation score\")\n",
    "plt.fill_between(train_size, train_mean - train_std, train_mean + train_std, alpha=0.2)\n",
    "plt.fill_between(train_size, test_mean - test_std, test_mean + test_std, alpha=0.2)\n",
    "plt.title(\"Learning Curve for {}\".format(str(mod).split('(')[0]))\n",
    "plt.xlabel(\"Training Set Size\")\n",
    "plt.ylabel(\"RMS Error\")\n",
    "plt.legend(loc=\"best\")\n",
    "plt.show()"
   ]
  },
  {
   "cell_type": "markdown",
   "metadata": {},
   "source": [
    "## Unknown data test"
   ]
  },
  {
   "cell_type": "code",
   "execution_count": 10,
   "metadata": {},
   "outputs": [
    {
     "name": "stdout",
     "output_type": "stream",
     "text": [
      "Root Mean squared error: 0.098134\n",
      "\n",
      "Root Mean squared error: 0.065824\n",
      "\n",
      "Root Mean squared error: 0.121013\n",
      "\n",
      "Root Mean squared error: 0.129458\n",
      "\n",
      "Root Mean squared error: 0.097906\n",
      "\n",
      "Root Mean squared error: 0.119617\n",
      "\n",
      "Root Mean squared error: 0.080990\n",
      "\n",
      "Root Mean squared error: 0.094881\n",
      "\n",
      "Root Mean squared error: 0.120814\n",
      "\n",
      "Root Mean squared error: 0.122124\n",
      "\n",
      "error COV--->0    0.580287\n",
      "dtype: float64  error mean --->0    0.072774\n",
      "Name: mean, dtype: float64  error std --->0    0.04223\n",
      "Name: std, dtype: float64\n"
     ]
    }
   ],
   "source": [
    "X = X.to_numpy()\n",
    "y = y.to_numpy()\n",
    "y_Test=y_Test.to_numpy()\n",
    "for train_index, test_index in kf.split(X):\n",
    "    X_train, X_test = X[train_index], X[test_index]\n",
    "    y_train, y_test = y[train_index], y[test_index]\n",
    "    HBM_Train = mod.fit(X_train, y_train)\n",
    "    HBM_Test = HBM_Train.predict(X_test)\n",
    "    print('Root Mean squared error: %f'\n",
    "          % mean_squared_error(y_test, HBM_Test,squared=False))\n",
    "    print()\n",
    "\n",
    "ytestunk=HBM_Train.predict(X_Test)\n",
    "err=np.zeros(len(ytestunk))\n",
    "for u in range (0,len(ytestunk)):\n",
    "    err[u]=np.sqrt((y_Test[u]-ytestunk[u])**2)\n",
    "a=pd.DataFrame(err).describe()\n",
    "cov_r=a.loc['std']/abs(a.loc['mean'])\n",
    "print(\"error COV--->{}  error mean --->{}  error std --->{}\".format(cov_r,abs(a.loc['mean']),a.loc['std']))"
   ]
  },
  {
   "cell_type": "markdown",
   "metadata": {},
   "source": [
    "# train score"
   ]
  },
  {
   "cell_type": "code",
   "execution_count": 58,
   "metadata": {},
   "outputs": [
    {
     "name": "stdout",
     "output_type": "stream",
     "text": [
      "error COV--->0    0.812201\n",
      "dtype: float64  error mean --->0    0.08006\n",
      "Name: mean, dtype: float64  error std --->0    0.065025\n",
      "Name: std, dtype: float64\n"
     ]
    }
   ],
   "source": [
    "ytr=HBM_Train.predict(X)\n",
    "err=np.zeros(len(ytr))\n",
    "for u in range (0,len(ytr)):\n",
    "    err[u]=np.sqrt((y[u]-ytr[u])**2)\n",
    "a=pd.DataFrame(err).describe()\n",
    "cov_r=a.loc['std']/abs(a.loc['mean'])\n",
    "print(\"error COV--->{}  error mean --->{}  error std --->{}\".format(cov_r,abs(a.loc['mean']),a.loc['std']))"
   ]
  },
  {
   "cell_type": "code",
   "execution_count": 59,
   "metadata": {},
   "outputs": [
    {
     "data": {
      "image/png": "[encoded data removed]",
      "text/plain": [
       "<Figure size 576x396 with 1 Axes>"
      ]
     },
     "metadata": {},
     "output_type": "display_data"
    }
   ],
   "source": [
    "plt.figure()\n",
    "\n",
    "plt.style.use('seaborn-ticks')\n",
    "csfont = {'fontname':'Times New Roman'}\n",
    "a=sns.residplot(y=abs(y), x=abs(ytr),label='ML Residuals_train')\n",
    "r=sns.residplot(y=abs(y_Test), x=abs(ytestunk),label='ML Residuals_unseen test')\n",
    "plt.grid( linestyle='--')\n",
    "# plt.title('Residuals plot ', fontsize='large',**csfont)\n",
    "plt.xlabel('Predicted values', fontsize='xx-large',**csfont)\n",
    "plt.ylabel('Residuals', fontsize='xx-large',**csfont)\n",
    "plt.rcParams[\"font.family\"] = \"Times New Roman\"\n",
    "\n",
    "leg = plt.legend(frameon=True,loc='best')\n",
    "leg.get_frame().set_linewidth(1)\n",
    "leg.get_frame().set_edgecolor('k')\n",
    "plt.grid(False)\n",
    "plt.yticks(fontsize=14)\n",
    "plt.xticks(fontsize=14)\n",
    "# plt.xlim([30,60])\n",
    "# plt.ylim([-10,10])\n",
    "# plt.savefig('chest_130_res', bbox_inches=\"tight\")\n",
    "plt.show()"
   ]
  }
 ],
 "metadata": {
  "kernelspec": {
   "display_name": "Python 3",
   "language": "python",
   "name": "python3"
  },
  "language_info": {
   "codemirror_mode": {
    "name": "ipython",
    "version": 3
   },
   "file_extension": ".py",
   "mimetype": "text/x-python",
   "name": "python",
   "nbconvert_exporter": "python",
   "pygments_lexer": "ipython3",
   "version": "3.8.5"
  }
 },
 "nbformat": 4,
 "nbformat_minor": 4
}
