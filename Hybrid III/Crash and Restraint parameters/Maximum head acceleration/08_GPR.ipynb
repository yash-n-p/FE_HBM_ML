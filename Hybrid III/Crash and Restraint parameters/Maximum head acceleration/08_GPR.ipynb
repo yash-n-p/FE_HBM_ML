{
 "cells": [
  {
   "cell_type": "markdown",
   "metadata": {},
   "source": [
    "# GPR"
   ]
  },
  {
   "cell_type": "code",
   "execution_count": 1,
   "metadata": {},
   "outputs": [],
   "source": [
    "import pandas as pd\n",
    "import numpy as np\n",
    "from sklearn.gaussian_process import GaussianProcessRegressor                 \n",
    "from sklearn.gaussian_process.kernels import RBF,RationalQuadratic\n",
    "from sklearn.gaussian_process.kernels import ExpSineSquared,Matern\n",
    "from sklearn.gaussian_process.kernels import WhiteKernel, ConstantKernel\n",
    "from sklearn.model_selection import train_test_split\n",
    "from sklearn.model_selection import RepeatedKFold\n",
    "from sklearn.model_selection import cross_val_score\n",
    "from sklearn.metrics import r2_score, mean_squared_error\n",
    "from sklearn.model_selection import learning_curve\n",
    "from sklearn.model_selection import KFold\n",
    "from sklearn.gaussian_process.kernels import DotProduct, WhiteKernel\n",
    "from sklearn.model_selection import RandomizedSearchCV\n",
    "from sklearn.model_selection import GridSearchCV\n",
    "from sklearn.gaussian_process.kernels import (RationalQuadratic,Exponentiation)\n",
    "from sklearn.gaussian_process.kernels import CompoundKernel\n",
    "import matplotlib.pyplot as plt"
   ]
  },
  {
   "cell_type": "code",
   "execution_count": 2,
   "metadata": {},
   "outputs": [],
   "source": [
    "Data=pd.read_csv('140_crash.csv')\n",
    "Data=Data[0:130]\n",
    "\n",
    "Head = Data.columns[14]\n",
    "Chest_deflection =  Data.columns[13]\n",
    "Head_acceleration = Data.columns[15]\n",
    "neck_force = Data.columns[16]\n",
    "\n",
    "X=Data[Data.columns[0:13]]\n",
    "y=Data[Head_acceleration]"
   ]
  },
  {
   "cell_type": "code",
   "execution_count": 16,
   "metadata": {},
   "outputs": [],
   "source": [
    "x_train, x_test, y_train, y_test = train_test_split(X, y, test_size=0.2, random_state=42)"
   ]
  },
  {
   "cell_type": "markdown",
   "metadata": {},
   "source": [
    "# alpha\n",
    "- float or ndarray of shape (n_samples,), default=1e-10\n",
    "- Value added to the diagonal of the kernel matrix during fitting. This can prevent a potential numerical issue during fitting, by ensuring that the calculated values form a positive definite matrix. It can also be interpreted as the variance of additional Gaussian measurement noise on the training observations. Note that this is different from using a WhiteKernel. If an array is passed, it must have the same number of entries as the data used for fitting and is used as datapoint-dependent noise level. Allowing to specify the noise level directly as a parameter is mainly for convenience and for consistency with Ridge."
   ]
  },
  {
   "cell_type": "code",
   "execution_count": 21,
   "metadata": {},
   "outputs": [
    {
     "data": {
      "image/png": "[encoded data removed]",
      "text/plain": [
       "<Figure size 432x288 with 1 Axes>"
      ]
     },
     "metadata": {
      "needs_background": "light"
     },
     "output_type": "display_data"
    }
   ],
   "source": [
    "n_estimators = np.logspace(-10, -8, 20, endpoint=True)\n",
    "train_results = []\n",
    "test_results = []\n",
    "kernel=ConstantKernel()* RationalQuadratic(alpha=0.1, length_scale=1)\n",
    "for eta in n_estimators:\n",
    "    model = GaussianProcessRegressor(kernel=kernel, alpha=eta)\n",
    "\n",
    "    model.fit(x_train, y_train)\n",
    "    train_pred = model.predict(x_train)\n",
    "    ax=mean_squared_error(y_train, train_pred,squared=False)\n",
    "    train_results.append(ax)\n",
    "    y_pred = model.predict(x_test)\n",
    "    ax=mean_squared_error(y_test, y_pred,squared=False)\n",
    "    test_results.append(ax)\n",
    "line1, = plt.plot(n_estimators, train_results, 'b', label=\"Train error\")\n",
    "line2, = plt.plot(n_estimators, test_results, 'r', label=\"Test error\")\n",
    "plt.legend()\n",
    "plt.ylabel('RMS')\n",
    "plt.xlabel('alpha')\n",
    "plt.show()"
   ]
  },
  {
   "cell_type": "markdown",
   "metadata": {},
   "source": [
    "# n_restarts_optimizer\n",
    "- The number of restarts of the optimizer for finding the kernel’s parameters which maximize the log-marginal likelihood. The first run of the optimizer is performed from the kernel’s initial parameters, the remaining ones (if any) from thetas sampled log-uniform randomly from the space of allowed theta-values. If greater than 0, all bounds must be finite. Note that n_restarts_optimizer == 0 implies that one run is performed."
   ]
  },
  {
   "cell_type": "code",
   "execution_count": 22,
   "metadata": {},
   "outputs": [
    {
     "data": {
      "image/png": "[encoded data removed]",
      "text/plain": [
       "<Figure size 432x288 with 1 Axes>"
      ]
     },
     "metadata": {
      "needs_background": "light"
     },
     "output_type": "display_data"
    }
   ],
   "source": [
    "n_estimators = np.arange(0, 10, 1)\n",
    "train_results = []\n",
    "test_results = []\n",
    "kernel=ConstantKernel()* RationalQuadratic(alpha=0.1, length_scale=1)\n",
    "for eta in n_estimators:\n",
    "    model = GaussianProcessRegressor(kernel=kernel, n_restarts_optimizer=eta,optimizer='fmin_l_bfgs_b')\n",
    "\n",
    "    model.fit(x_train, y_train)\n",
    "    train_pred = model.predict(x_train)\n",
    "    ax=mean_squared_error(y_train, train_pred,squared=False)\n",
    "    train_results.append(ax)\n",
    "    y_pred = model.predict(x_test)\n",
    "    ax=mean_squared_error(y_test, y_pred,squared=False)\n",
    "    test_results.append(ax)\n",
    "line1, = plt.plot(n_estimators, train_results, 'b', label=\"Train error\")\n",
    "line2, = plt.plot(n_estimators, test_results, 'r', label=\"Test error\")\n",
    "plt.legend()\n",
    "plt.ylabel('RMS')\n",
    "plt.xlabel('alpha')\n",
    "plt.show()"
   ]
  },
  {
   "cell_type": "markdown",
   "metadata": {},
   "source": [
    "# Random Search"
   ]
  },
  {
   "cell_type": "code",
   "execution_count": 17,
   "metadata": {},
   "outputs": [],
   "source": [
    "Data=pd.read_csv('140_crash.csv')\n",
    "Data=Data[0:130]\n",
    "\n",
    "Head = Data.columns[14]\n",
    "Chest_deflection =  Data.columns[13]\n",
    "Head_acceleration = Data.columns[15]\n",
    "neck_force = Data.columns[16]\n",
    "\n",
    "X=Data[Data.columns[0:13]]\n",
    "y=Data[Head]"
   ]
  },
  {
   "cell_type": "code",
   "execution_count": 18,
   "metadata": {},
   "outputs": [],
   "source": [
    "# ker = ConstantKernel(constant_value=1.0, constant_value_bounds=(1e-05, 2)) * RationalQuadratic(alpha=0.1, length_scale=1,length_scale_bounds=(1e-05, 25), alpha_bounds=(1e-05,25),)\n",
    "# ker = ConstantKernel(1.0) * RBF(1.0)\n",
    "# ker = DotProduct() + WhiteKernel(noise_level=0.5)\n",
    "# ker=Exponentiation(RBF(), exponent=2)\n",
    "ker=Exponentiation(RationalQuadratic(), exponent=2)+WhiteKernel(noise_level=0.5)\n",
    "# ker=ConstantKernel()*RationalQuadratic(length_scale=24,alpha=1)\n",
    "# ker= CompoundKernel([WhiteKernel(noise_level=3.0), RBF(length_scale=2.0)])\n",
    "param_grid = {\"kernel\": [ker],\n",
    "              \"alpha\": [1e-10,2,5],\n",
    "              \"optimizer\": [\"fmin_l_bfgs_b\"],\n",
    "              \"n_restarts_optimizer\": [1, 2, 3,4],\n",
    "              \"normalize_y\": [False, True],\n",
    "              \"random_state\": [0]}"
   ]
  },
  {
   "cell_type": "code",
   "execution_count": 19,
   "metadata": {},
   "outputs": [
    {
     "name": "stdout",
     "output_type": "stream",
     "text": [
      "Fitting 10 folds for each of 24 candidates, totalling 240 fits\n"
     ]
    },
    {
     "name": "stderr",
     "output_type": "stream",
     "text": [
      "[Parallel(n_jobs=-1)]: Using backend LokyBackend with 12 concurrent workers.\n",
      "[Parallel(n_jobs=-1)]: Done  17 tasks      | elapsed:    0.9s\n",
      "[Parallel(n_jobs=-1)]: Done 138 tasks      | elapsed:    8.3s\n",
      "[Parallel(n_jobs=-1)]: Done 240 out of 240 | elapsed:   13.7s finished\n"
     ]
    },
    {
     "data": {
      "text/plain": [
       "GridSearchCV(cv=10, estimator=GaussianProcessRegressor(), n_jobs=-1,\n",
       "             param_grid={'alpha': [1e-10, 2, 5],\n",
       "                         'kernel': [RationalQuadratic(alpha=1, length_scale=1) ** 2 + WhiteKernel(noise_level=0.5)],\n",
       "                         'n_restarts_optimizer': [1, 2, 3, 4],\n",
       "                         'normalize_y': [False, True],\n",
       "                         'optimizer': ['fmin_l_bfgs_b'], 'random_state': [0]},\n",
       "             return_train_score=True, scoring='neg_root_mean_squared_error',\n",
       "             verbose=2)"
      ]
     },
     "execution_count": 19,
     "metadata": {},
     "output_type": "execute_result"
    }
   ],
   "source": [
    "\n",
    "rf = GaussianProcessRegressor()\n",
    "reg = GridSearchCV(rf,param_grid = param_grid ,cv = 10, return_train_score=True,scoring=\"neg_root_mean_squared_error\", verbose=2, n_jobs = -1)\n",
    "reg.fit(X,y)"
   ]
  },
  {
   "cell_type": "code",
   "execution_count": 20,
   "metadata": {},
   "outputs": [
    {
     "data": {
      "text/plain": [
       "{'alpha': 1e-10,\n",
       " 'kernel': RationalQuadratic(alpha=1, length_scale=1) ** 2 + WhiteKernel(noise_level=0.5),\n",
       " 'n_restarts_optimizer': 4,\n",
       " 'normalize_y': True,\n",
       " 'optimizer': 'fmin_l_bfgs_b',\n",
       " 'random_state': 0}"
      ]
     },
     "execution_count": 20,
     "metadata": {},
     "output_type": "execute_result"
    }
   ],
   "source": [
    "reg.best_params_"
   ]
  },
  {
   "cell_type": "code",
   "execution_count": 21,
   "metadata": {},
   "outputs": [
    {
     "data": {
      "text/plain": [
       "GaussianProcessRegressor(kernel=RationalQuadratic(alpha=1, length_scale=1) ** 2 + WhiteKernel(noise_level=0.5),\n",
       "                         n_restarts_optimizer=4, normalize_y=True,\n",
       "                         random_state=0)"
      ]
     },
     "execution_count": 21,
     "metadata": {},
     "output_type": "execute_result"
    }
   ],
   "source": [
    "reg.best_estimator_"
   ]
  },
  {
   "cell_type": "code",
   "execution_count": 22,
   "metadata": {},
   "outputs": [],
   "source": [
    "#Chest\n",
    "# mod=GaussianProcessRegressor(alpha=1.1, copy_X_train=False,\n",
    "#                          kernel=1**2 * RationalQuadratic(alpha=0.1, length_scale=1),\n",
    "#                          n_restarts_optimizer=1, normalize_y=True,\n",
    "#                          random_state=0)\n",
    "# mod=GaussianProcessRegressor(copy_X_train=False,\n",
    "#                          kernel=1**2 * RationalQuadratic(alpha=0.1, length_scale=1),\n",
    "#                          n_restarts_optimizer=3, random_state=0)\n",
    "# mod=GaussianProcessRegressor(kernel=1**2 * RBF(length_scale=20),\n",
    "#                          n_restarts_optimizer=2, normalize_y=True,\n",
    "#                          random_state=0)\n",
    "# mod=GaussianProcessRegressor(kernel=1**2 * RBF(length_scale=1),\n",
    "#                          n_restarts_optimizer=1, normalize_y=True,\n",
    "#                          random_state=0)\n",
    "# mod=GaussianProcessRegressor(kernel=DotProduct(sigma_0=1) + WhiteKernel(noise_level=0.5),\n",
    "#                          n_restarts_optimizer=1, normalize_y=True,\n",
    "#                          random_state=0)\n",
    "# mod=GaussianProcessRegressor(kernel=RationalQuadratic(alpha=1, length_scale=1) ** 2,\n",
    "#                          n_restarts_optimizer=1, random_state=0)\n",
    "# mod=GaussianProcessRegressor(kernel=RationalQuadratic(alpha=1, length_scale=1) ** 2 + WhiteKernel(noise_level=0.5),\n",
    "#                          n_restarts_optimizer=3, normalize_y=True,\n",
    "#                          random_state=0)\n",
    "# mod=GaussianProcessRegressor(kernel=RationalQuadratic(alpha=1, length_scale=1) ** 2 + WhiteKernel(noise_level=0.5),\n",
    "#                          n_restarts_optimizer=4, normalize_y=True,\n",
    "#                          random_state=0)\n",
    "# mod=GaussianProcessRegressor(kernel=RBF(length_scale=1) ** 2 + WhiteKernel(noise_level=0.5),\n",
    "#                          n_restarts_optimizer=1, normalize_y=True,\n",
    "#                          random_state=0,alpha=5)\n",
    "# mod=GaussianProcessRegressor(kernel=RBF(length_scale=1) ** 2 + WhiteKernel(noise_level=0.5),\n",
    "#                          n_restarts_optimizer=1, normalize_y=True,\n",
    "#                          random_state=0)\n",
    "# mod=GaussianProcessRegressor(alpha=2, kernel=RBF(length_scale=1) ** 2,\n",
    "#                          n_restarts_optimizer=2, normalize_y=True,\n",
    "#                          random_state=0)\n",
    "# mod=GaussianProcessRegressor(kernel=1**2 * RationalQuadratic(alpha=1, length_scale=24),\n",
    "#                          n_restarts_optimizer=1, random_state=0)\n",
    "# mod=GaussianProcessRegressor(kernel=RationalQuadratic(alpha=1, length_scale=24) ** 2,\n",
    "#                          n_restarts_optimizer=4, random_state=0)\n",
    "# mod=GaussianProcessRegressor(kernel=RationalQuadratic(alpha=1, length_scale=24) ** 2,\n",
    "#                          n_restarts_optimizer=4, random_state=0)\n",
    "# mod=GaussianProcessRegressor(kernel=RationalQuadratic(alpha=1, length_scale=1) ** 2 +0.5* WhiteKernel(noise_level=0.5),\n",
    "#                          n_restarts_optimizer=4, normalize_y=True,\n",
    "#                          random_state=0)\n",
    "# head acc\n",
    "# mod=GaussianProcessRegressor(alpha=2,\n",
    "#                          kernel=RationalQuadratic(alpha=1, length_scale=1) ** 2 + WhiteKernel(noise_level=0.5),\n",
    "#                          n_restarts_optimizer=1, normalize_y=True,\n",
    "#                          random_state=0)\n",
    "# mod=GaussianProcessRegressor(kernel=RationalQuadratic(alpha=1, length_scale=1) ** 2 + WhiteKernel(noise_level=0.5),\n",
    "#                          n_restarts_optimizer=1, normalize_y=True,\n",
    "#                          random_state=0)\n",
    "mod=GaussianProcessRegressor(kernel=RationalQuadratic(alpha=1, length_scale=1) ** 2 + WhiteKernel(noise_level=0.5),\n",
    "                         n_restarts_optimizer=4, normalize_y=True,\n",
    "                         random_state=0)"
   ]
  },
  {
   "cell_type": "code",
   "execution_count": 23,
   "metadata": {},
   "outputs": [
    {
     "name": "stderr",
     "output_type": "stream",
     "text": [
      "C:\\Users\\ypyas\\anaconda3\\lib\\site-packages\\sklearn\\model_selection\\_split.py:293: FutureWarning: Setting a random_state has no effect since shuffle is False. This will raise an error in 0.24. You should leave random_state to its default (None), or set shuffle=True.\n",
      "  warnings.warn(\n"
     ]
    }
   ],
   "source": [
    "cv = KFold(n_splits=10, random_state=1)"
   ]
  },
  {
   "cell_type": "code",
   "execution_count": 24,
   "metadata": {},
   "outputs": [],
   "source": [
    "y_actual = []\n",
    "predict = []\n",
    "X, X_Test, y, y_Test = train_test_split(X, y, test_size=0.2, random_state=42)\n",
    "train_size,train_score,test_score=learning_curve(mod,X,y,cv=cv,scoring='neg_root_mean_squared_error')\n"
   ]
  },
  {
   "cell_type": "code",
   "execution_count": 25,
   "metadata": {},
   "outputs": [
    {
     "data": {
      "text/plain": [
       "<Figure size 432x288 with 0 Axes>"
      ]
     },
     "metadata": {},
     "output_type": "display_data"
    },
    {
     "data": {
      "image/png": "[encoded data removed]",
      "text/plain": [
       "<Figure size 432x288 with 1 Axes>"
      ]
     },
     "metadata": {
      "needs_background": "light"
     },
     "output_type": "display_data"
    }
   ],
   "source": [
    "train_mean=-np.mean(train_score,axis=1)\n",
    "train_std=-np.std(train_score,axis=1)\n",
    "test_mean=-np.mean(test_score,axis=1)\n",
    "test_std=-np.std(test_score,axis=1)\n",
    "    \n",
    "plt.figure()\n",
    "plt.subplots(1)\n",
    "plt.plot(train_size,train_mean, 'o-', color=\"b\",label=\"Training score\")\n",
    "plt.plot(train_size, test_mean, 'o-', color=\"g\",label=\"Cross-validation score\")\n",
    "plt.fill_between(train_size, train_mean - train_std, train_mean + train_std, alpha=0.2)\n",
    "plt.fill_between(train_size, test_mean - test_std, test_mean + test_std, alpha=0.2)\n",
    "plt.title(\"Learning Curve for {}\".format(str(mod).split('(')[0]))\n",
    "plt.xlabel(\"Training Set Size\")\n",
    "plt.ylabel(\"RMS Error\")\n",
    "plt.legend(loc=\"best\")\n",
    "plt.show()"
   ]
  },
  {
   "cell_type": "code",
   "execution_count": 26,
   "metadata": {},
   "outputs": [],
   "source": [
    "X = X.to_numpy()\n",
    "y = y.to_numpy()"
   ]
  },
  {
   "cell_type": "code",
   "execution_count": 27,
   "metadata": {},
   "outputs": [],
   "source": [
    "y_Test=y_Test.to_numpy()"
   ]
  },
  {
   "cell_type": "code",
   "execution_count": 28,
   "metadata": {},
   "outputs": [
    {
     "name": "stdout",
     "output_type": "stream",
     "text": [
      "Root Mean squared error: 108.545835\n",
      "\n",
      "Root Mean squared error: 60.500545\n",
      "\n",
      "Root Mean squared error: 51.770180\n",
      "\n",
      "Root Mean squared error: 94.902777\n",
      "\n",
      "Root Mean squared error: 76.556923\n",
      "\n",
      "Root Mean squared error: 65.793267\n",
      "\n",
      "Root Mean squared error: 40.539653\n",
      "\n",
      "Root Mean squared error: 60.434323\n",
      "\n",
      "Root Mean squared error: 84.580696\n",
      "\n",
      "Root Mean squared error: 74.519825\n",
      "\n",
      "error COV--->0    0.939242\n",
      "dtype: float64  error mean --->0    52.201542\n",
      "Name: mean, dtype: float64  error std --->0    49.029856\n",
      "Name: std, dtype: float64\n"
     ]
    }
   ],
   "source": [
    "kf=cv\n",
    "\n",
    "for train_index, test_index in kf.split(X):\n",
    "    X_train, X_test = X[train_index], X[test_index]\n",
    "    y_train, y_test = y[train_index], y[test_index]\n",
    "    HBM_Train = mod.fit(X_train, y_train)\n",
    "    HBM_Test = HBM_Train.predict(X_test)\n",
    "    print('Root Mean squared error: %f'\n",
    "          % mean_squared_error(y_test, HBM_Test,squared=False))\n",
    "    print()\n",
    "\n",
    "ytestunk=HBM_Train.predict(X_Test)\n",
    "err=np.zeros(len(ytestunk))\n",
    "for u in range (0,len(ytestunk)):\n",
    "    err[u]=np.sqrt((y_Test[u]-ytestunk[u])**2)\n",
    "a=pd.DataFrame(err).describe()\n",
    "cov_r=a.loc['std']/abs(a.loc['mean'])\n",
    "print(\"error COV--->{}  error mean --->{}  error std --->{}\".format(cov_r,abs(a.loc['mean']),a.loc['std']))"
   ]
  },
  {
   "cell_type": "markdown",
   "metadata": {},
   "source": [
    "# train score"
   ]
  },
  {
   "cell_type": "code",
   "execution_count": 29,
   "metadata": {},
   "outputs": [
    {
     "name": "stdout",
     "output_type": "stream",
     "text": [
      "error COV--->0    0.954735\n",
      "dtype: float64  error mean --->0    47.033267\n",
      "Name: mean, dtype: float64  error std --->0    44.904319\n",
      "Name: std, dtype: float64\n"
     ]
    }
   ],
   "source": [
    "ytestunk=HBM_Train.predict(X)\n",
    "err=np.zeros(len(ytestunk))\n",
    "\n",
    "for u in range (0,len(ytestunk)):\n",
    "    err[u]=np.sqrt((y[u]-ytestunk[u])**2)\n",
    "a=pd.DataFrame(err).describe()\n",
    "cov_r=a.loc['std']/abs(a.loc['mean'])\n",
    "print(\"error COV--->{}  error mean --->{}  error std --->{}\".format(cov_r,abs(a.loc['mean']),a.loc['std']))"
   ]
  },
  {
   "cell_type": "code",
   "execution_count": null,
   "metadata": {},
   "outputs": [],
   "source": []
  }
 ],
 "metadata": {
  "kernelspec": {
   "display_name": "Python 3",
   "language": "python",
   "name": "python3"
  },
  "language_info": {
   "codemirror_mode": {
    "name": "ipython",
    "version": 3
   },
   "file_extension": ".py",
   "mimetype": "text/x-python",
   "name": "python",
   "nbconvert_exporter": "python",
   "pygments_lexer": "ipython3",
   "version": "3.8.5"
  }
 },
 "nbformat": 4,
 "nbformat_minor": 4
}
