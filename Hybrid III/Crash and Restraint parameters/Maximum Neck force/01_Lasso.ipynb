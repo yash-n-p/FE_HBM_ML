{
 "cells": [
  {
   "cell_type": "markdown",
   "metadata": {},
   "source": [
    "# sklearn.linear_model.Lasso\n",
    "- Linear Model trained with L1 prior as regularizer (aka the Lasso)\n",
    "\n",
    "- The optimization objective for Lasso is:\n",
    "$ (\\frac{1} {(2 * n_samples)}) * ||y - Xw||^2_2 + alpha * ||w||_1$ \n",
    "- Technically the Lasso model is optimizing the same objective function as the Elastic Net with l1_ratio=1.0 (no L2 penalty)."
   ]
  },
  {
   "cell_type": "code",
   "execution_count": 1,
   "metadata": {},
   "outputs": [],
   "source": [
    "from sklearn.metrics import r2_score, mean_squared_error\n",
    "from sklearn.model_selection import KFold\n",
    "from sklearn.model_selection import learning_curve\n",
    "from sklearn.model_selection import validation_curve\n",
    "import seaborn as sns\n",
    "import numpy as np\n",
    "import pandas as pd\n",
    "import matplotlib.pyplot as plt\n",
    "from sklearn.model_selection import GridSearchCV\n",
    "from sklearn.model_selection import train_test_split\n",
    "from sklearn.model_selection import RandomizedSearchCV\n",
    "from yellowbrick.model_selection import ValidationCurve\n",
    "from sklearn.linear_model import Lasso\n",
    "from sklearn.linear_model import LassoCV\n",
    "from yellowbrick.datasets import load_concrete\n",
    "from yellowbrick.regressor import AlphaSelection\n",
    "from yellowbrick.regressor import ManualAlphaSelection"
   ]
  },
  {
   "cell_type": "code",
   "execution_count": 2,
   "metadata": {},
   "outputs": [],
   "source": [
    "Data=pd.read_csv('140_crash.csv')\n",
    "Data=Data[0:130]\n",
    "\n",
    "Head = Data.columns[14]\n",
    "Chest_deflection =  Data.columns[13]\n",
    "Head_acceleration = Data.columns[15]\n",
    "neck_force = Data.columns[16]\n",
    "\n",
    "X=Data[Data.columns[0:13]]\n",
    "y=Data[Chest_deflection]"
   ]
  },
  {
   "cell_type": "code",
   "execution_count": 6,
   "metadata": {},
   "outputs": [
    {
     "data": {
      "text/plain": [
       "1.0928335788962298"
      ]
     },
     "execution_count": 6,
     "metadata": {},
     "output_type": "execute_result"
    }
   ],
   "source": [
    "Data[Head_acceleration].skew()"
   ]
  },
  {
   "cell_type": "markdown",
   "metadata": {},
   "source": [
    "# Validation curves"
   ]
  },
  {
   "cell_type": "markdown",
   "metadata": {},
   "source": [
    "# alpha\n",
    "- float, default=1.0\n",
    "- Constant that multiplies the L1 term. Defaults to 1.0. alpha = 0 is equivalent to an ordinary least square, solved by the LinearRegression object. For numerical reasons, using alpha = 0 with the Lasso object is not advised. Given this, you should use the LinearRegression object."
   ]
  },
  {
   "cell_type": "code",
   "execution_count": 27,
   "metadata": {},
   "outputs": [
    {
     "data": {
      "image/png": "[encoded data removed]",
      "text/plain": [
       "<Figure size 576x396 with 1 Axes>"
      ]
     },
     "metadata": {},
     "output_type": "display_data"
    }
   ],
   "source": [
    "x_train, x_test, y_train, y_test = train_test_split(X, y, test_size=0.2, random_state=42)\n",
    "learning_rates =  np.logspace(-8, -5, 50)\n",
    "train_results = []\n",
    "test_results = []\n",
    "for eta in learning_rates:\n",
    "    model = Lasso(alpha=eta)\n",
    "    model.fit(x_train, y_train)\n",
    "    train_pred = model.predict(x_train)\n",
    "    ax=mean_squared_error(y_train, train_pred,squared=False)\n",
    "    train_results.append(ax)\n",
    "    y_pred = model.predict(x_test)\n",
    "    ax=mean_squared_error(y_test, y_pred,squared=False)\n",
    "    test_results.append(ax)\n",
    "from matplotlib.legend_handler import HandlerLine2D\n",
    "line1, = plt.plot(learning_rates, train_results, 'b', label=\"Train error\")\n",
    "line2, = plt.plot(learning_rates, test_results, 'r', label=\"Test error\")\n",
    "plt.legend(handler_map={line1: HandlerLine2D(numpoints=2)})\n",
    "plt.ylabel('RMS')\n",
    "plt.xlabel(' alpha')\n",
    "plt.show()"
   ]
  },
  {
   "cell_type": "markdown",
   "metadata": {},
   "source": [
    "---\n",
    "---"
   ]
  },
  {
   "cell_type": "markdown",
   "metadata": {},
   "source": [
    "# Random Hyperparameter Grid"
   ]
  },
  {
   "cell_type": "code",
   "execution_count": 30,
   "metadata": {},
   "outputs": [],
   "source": [
    "alpha = np.linspace(1e-06, 1e-05, 50, endpoint=True)\n",
    "selection=['cyclic','random']\n",
    "normalize=[True,False]\n",
    "warm_start=[True,False]\n",
    "\n",
    "random_grid = {\"alpha\" :alpha,\n",
    "               \"normalize\":normalize,\n",
    "               \"warm_start\":warm_start,\n",
    "               \"selection\":selection}"
   ]
  },
  {
   "cell_type": "code",
   "execution_count": 32,
   "metadata": {},
   "outputs": [
    {
     "name": "stdout",
     "output_type": "stream",
     "text": [
      "Fitting 10 folds for each of 200 candidates, totalling 2000 fits\n"
     ]
    },
    {
     "name": "stderr",
     "output_type": "stream",
     "text": [
      "[Parallel(n_jobs=-1)]: Using backend LokyBackend with 12 concurrent workers.\n",
      "[Parallel(n_jobs=-1)]: Done  17 tasks      | elapsed:    4.5s\n",
      "[Parallel(n_jobs=-1)]: Done 360 tasks      | elapsed:    5.1s\n",
      "[Parallel(n_jobs=-1)]: Done 2000 out of 2000 | elapsed:    6.6s finished\n"
     ]
    },
    {
     "data": {
      "text/plain": [
       "RandomizedSearchCV(cv=10, estimator=Lasso(), n_iter=200, n_jobs=-1,\n",
       "                   param_distributions={'alpha': array([1.00000000e-06, 1.18367347e-06, 1.36734694e-06, 1.55102041e-06,\n",
       "       1.73469388e-06, 1.91836735e-06, 2.10204082e-06, 2.28571429e-06,\n",
       "       2.46938776e-06, 2.65306122e-06, 2.83673469e-06, 3.02040816e-06,\n",
       "       3.20408163e-06, 3.38775510e-06, 3.57142857e-06, 3.75510204e-06,\n",
       "       3.93877551...\n",
       "       6.87755102e-06, 7.06122449e-06, 7.24489796e-06, 7.42857143e-06,\n",
       "       7.61224490e-06, 7.79591837e-06, 7.97959184e-06, 8.16326531e-06,\n",
       "       8.34693878e-06, 8.53061224e-06, 8.71428571e-06, 8.89795918e-06,\n",
       "       9.08163265e-06, 9.26530612e-06, 9.44897959e-06, 9.63265306e-06,\n",
       "       9.81632653e-06, 1.00000000e-05]),\n",
       "                                        'normalize': [True, False],\n",
       "                                        'selection': ['cyclic', 'random'],\n",
       "                                        'warm_start': [True, False]},\n",
       "                   random_state=42, verbose=2)"
      ]
     },
     "execution_count": 32,
     "metadata": {},
     "output_type": "execute_result"
    }
   ],
   "source": [
    "# Use the random grid to search for best hyperparameters\n",
    "# First create the base model to tune\n",
    "rf = Lasso()\n",
    "# search across 100 different combinations, and use all available cores\n",
    "rf_random = RandomizedSearchCV(estimator = rf, param_distributions = random_grid, n_iter = 200, cv = 10, verbose=2, random_state=42, n_jobs = -1)\n",
    "# Fit the random search model\n",
    "rf_random.fit(X,y)"
   ]
  },
  {
   "cell_type": "code",
   "execution_count": 33,
   "metadata": {},
   "outputs": [
    {
     "data": {
      "text/plain": [
       "{'warm_start': True, 'selection': 'random', 'normalize': False, 'alpha': 1e-05}"
      ]
     },
     "execution_count": 33,
     "metadata": {},
     "output_type": "execute_result"
    }
   ],
   "source": [
    "rf_random.best_params_"
   ]
  },
  {
   "cell_type": "code",
   "execution_count": 34,
   "metadata": {},
   "outputs": [
    {
     "data": {
      "text/plain": [
       "Lasso(alpha=1e-05, selection='random', warm_start=True)"
      ]
     },
     "execution_count": 34,
     "metadata": {},
     "output_type": "execute_result"
    }
   ],
   "source": [
    "rf_random.best_estimator_"
   ]
  },
  {
   "cell_type": "code",
   "execution_count": 36,
   "metadata": {},
   "outputs": [],
   "source": [
    "#Chest\n",
    "mod=Lasso(alpha=1e-05, selection='random', warm_start=True)"
   ]
  },
  {
   "cell_type": "code",
   "execution_count": 37,
   "metadata": {},
   "outputs": [
    {
     "name": "stderr",
     "output_type": "stream",
     "text": [
      "C:\\Users\\ypyas\\anaconda3\\lib\\site-packages\\sklearn\\model_selection\\_split.py:293: FutureWarning: Setting a random_state has no effect since shuffle is False. This will raise an error in 0.24. You should leave random_state to its default (None), or set shuffle=True.\n",
      "  warnings.warn(\n"
     ]
    }
   ],
   "source": [
    "cv = KFold(n_splits=10, random_state=1)"
   ]
  },
  {
   "cell_type": "code",
   "execution_count": 38,
   "metadata": {},
   "outputs": [
    {
     "name": "stderr",
     "output_type": "stream",
     "text": [
      "C:\\Users\\ypyas\\anaconda3\\lib\\site-packages\\sklearn\\linear_model\\_coordinate_descent.py:529: ConvergenceWarning: Objective did not converge. You might want to increase the number of iterations. Duality gap: 0.9117006405978236, tolerance: 0.02436416501792356\n",
      "  model = cd_fast.enet_coordinate_descent(\n"
     ]
    }
   ],
   "source": [
    "y_actual = []\n",
    "predict = []\n",
    "X, X_Test, y, y_Test = train_test_split(X, y, test_size=0.2, random_state=42)\n",
    "train_size,train_score,test_score=learning_curve(mod,X,y,cv=cv,scoring='neg_root_mean_squared_error')\n"
   ]
  },
  {
   "cell_type": "code",
   "execution_count": 39,
   "metadata": {},
   "outputs": [
    {
     "data": {
      "text/plain": [
       "<Figure size 576x396 with 0 Axes>"
      ]
     },
     "metadata": {},
     "output_type": "display_data"
    },
    {
     "data": {
      "image/png": "[encoded data removed]",
      "text/plain": [
       "<Figure size 576x396 with 1 Axes>"
      ]
     },
     "metadata": {},
     "output_type": "display_data"
    }
   ],
   "source": [
    "\n",
    "train_mean=-np.mean(train_score,axis=1)\n",
    "train_std=-np.std(train_score,axis=1)\n",
    "test_mean=-np.mean(test_score,axis=1)\n",
    "test_std=-np.std(test_score,axis=1)\n",
    "    \n",
    "plt.figure()\n",
    "plt.subplots(1)\n",
    "plt.plot(train_size,train_mean, 'o-', color=\"b\",label=\"Training score\")\n",
    "plt.plot(train_size, test_mean, 'o-', color=\"g\",label=\"Cross-validation score\")\n",
    "plt.fill_between(train_size, train_mean - train_std, train_mean + train_std, alpha=0.2)\n",
    "plt.fill_between(train_size, test_mean - test_std, test_mean + test_std, alpha=0.2)\n",
    "plt.title(\"Learning Curve for {}\".format(str(mod).split('(')[0]))\n",
    "plt.xlabel(\"Training Set Size\")\n",
    "plt.ylabel(\"RMS Error\")\n",
    "plt.legend(loc=\"best\")\n",
    "plt.show()"
   ]
  },
  {
   "cell_type": "code",
   "execution_count": 40,
   "metadata": {},
   "outputs": [],
   "source": [
    "X = X.to_numpy()\n",
    "y = y.to_numpy()\n"
   ]
  },
  {
   "cell_type": "code",
   "execution_count": 41,
   "metadata": {},
   "outputs": [],
   "source": [
    "y_Test=y_Test.to_numpy()"
   ]
  },
  {
   "cell_type": "code",
   "execution_count": 42,
   "metadata": {},
   "outputs": [
    {
     "name": "stdout",
     "output_type": "stream",
     "text": [
      "Root Mean squared error: 2.542861\n",
      "\n",
      "Root Mean squared error: 2.344506\n",
      "\n",
      "Root Mean squared error: 2.229320\n",
      "\n",
      "Root Mean squared error: 2.515406\n",
      "\n",
      "Root Mean squared error: 2.777284\n",
      "\n",
      "Root Mean squared error: 1.494925\n",
      "\n",
      "Root Mean squared error: 2.547591\n",
      "\n",
      "Root Mean squared error: 3.654557\n",
      "\n",
      "Root Mean squared error: 1.540542\n",
      "\n",
      "Root Mean squared error: 2.268996\n",
      "\n",
      "error COV--->0    0.913798\n",
      "dtype: float64  error mean --->0    1.578049\n",
      "Name: mean, dtype: float64  error std --->0    1.442019\n",
      "Name: std, dtype: float64\n"
     ]
    }
   ],
   "source": [
    "kf=cv\n",
    "\n",
    "for train_index, test_index in kf.split(X):\n",
    "    X_train, X_test = X[train_index], X[test_index]\n",
    "    y_train, y_test = y[train_index], y[test_index]\n",
    "    HBM_Train = mod.fit(X_train, y_train)\n",
    "    HBM_Test = HBM_Train.predict(X_test)\n",
    "    print('Root Mean squared error: %f'\n",
    "          % mean_squared_error(y_test, HBM_Test,squared=False))\n",
    "    print()\n",
    "\n",
    "ytestunk=HBM_Train.predict(X_Test)\n",
    "err=np.zeros(len(ytestunk))\n",
    "for u in range (0,len(ytestunk)):\n",
    "    err[u]=np.sqrt((y_Test[u]-ytestunk[u])**2)\n",
    "a=pd.DataFrame(err).describe()\n",
    "cov_r=a.loc['std']/abs(a.loc['mean'])\n",
    "print(\"error COV--->{}  error mean --->{}  error std --->{}\".format(cov_r,abs(a.loc['mean']),a.loc['std']))"
   ]
  },
  {
   "cell_type": "markdown",
   "metadata": {},
   "source": [
    "# train score"
   ]
  },
  {
   "cell_type": "code",
   "execution_count": 43,
   "metadata": {},
   "outputs": [
    {
     "name": "stdout",
     "output_type": "stream",
     "text": [
      "error COV--->0    0.8102\n",
      "dtype: float64  error mean --->0    1.659333\n",
      "Name: mean, dtype: float64  error std --->0    1.344391\n",
      "Name: std, dtype: float64\n"
     ]
    }
   ],
   "source": [
    "ytestunk=HBM_Train.predict(X)\n",
    "err=np.zeros(len(ytestunk))\n",
    "for u in range (0,len(ytestunk)):\n",
    "    err[u]=np.sqrt((y[u]-ytestunk[u])**2)\n",
    "a=pd.DataFrame(err).describe()\n",
    "cov_r=a.loc['std']/abs(a.loc['mean'])\n",
    "print(\"error COV--->{}  error mean --->{}  error std --->{}\".format(cov_r,abs(a.loc['mean']),a.loc['std']))"
   ]
  },
  {
   "cell_type": "code",
   "execution_count": null,
   "metadata": {},
   "outputs": [],
   "source": []
  },
  {
   "cell_type": "markdown",
   "metadata": {},
   "source": [
    "---\n",
    "---"
   ]
  },
  {
   "cell_type": "markdown",
   "metadata": {},
   "source": [
    "# Grid search"
   ]
  },
  {
   "cell_type": "code",
   "execution_count": 68,
   "metadata": {},
   "outputs": [],
   "source": [
    "alpha = np.linspace(1e-06, 1e-03, 100, endpoint=True)\n",
    "selection=['cyclic','random']\n",
    "normalize=[True,False]\n",
    "warm_start=[True,False]\n",
    "\n",
    "random_grid = {\"alpha\" :alpha,\n",
    "               \"normalize\":normalize,\n",
    "               \"warm_start\":warm_start,\n",
    "               \"selection\":selection}"
   ]
  },
  {
   "cell_type": "code",
   "execution_count": 78,
   "metadata": {},
   "outputs": [],
   "source": [
    "Data=pd.read_csv('140_crash.csv')\n",
    "Data=Data[0:130]\n",
    "\n",
    "Head = Data.columns[14]\n",
    "Chest_deflection =  Data.columns[13]\n",
    "Head_acceleration = Data.columns[15]\n",
    "neck_force = Data.columns[16]\n",
    "\n",
    "X=Data[Data.columns[0:13]]\n",
    "y=Data[Head]"
   ]
  },
  {
   "cell_type": "code",
   "execution_count": 79,
   "metadata": {},
   "outputs": [
    {
     "name": "stdout",
     "output_type": "stream",
     "text": [
      "Fitting 10 folds for each of 800 candidates, totalling 8000 fits\n"
     ]
    },
    {
     "name": "stderr",
     "output_type": "stream",
     "text": [
      "[Parallel(n_jobs=-1)]: Using backend LokyBackend with 12 concurrent workers.\n",
      "[Parallel(n_jobs=-1)]: Done  17 tasks      | elapsed:    0.0s\n",
      "[Parallel(n_jobs=-1)]: Done 1032 tasks      | elapsed:    1.3s\n",
      "[Parallel(n_jobs=-1)]: Done 4280 tasks      | elapsed:    5.2s\n",
      "[Parallel(n_jobs=-1)]: Done 7908 tasks      | elapsed:    9.4s\n",
      "[Parallel(n_jobs=-1)]: Done 8000 out of 8000 | elapsed:    9.6s finished\n"
     ]
    },
    {
     "data": {
      "text/plain": [
       "GridSearchCV(cv=KFold(n_splits=10, random_state=1, shuffle=False),\n",
       "             estimator=Lasso(), n_jobs=-1,\n",
       "             param_grid={'alpha': array([1.00000000e-06, 1.10909091e-05, 2.11818182e-05, 3.12727273e-05,\n",
       "       4.13636364e-05, 5.14545455e-05, 6.15454545e-05, 7.16363636e-05,\n",
       "       8.17272727e-05, 9.18181818e-05, 1.01909091e-04, 1.12000000e-04,\n",
       "       1.22090909e-04, 1.32181818e-04, 1.42272727e-04, 1.5236...\n",
       "       8.48636364e-04, 8.58727273e-04, 8.68818182e-04, 8.78909091e-04,\n",
       "       8.89000000e-04, 8.99090909e-04, 9.09181818e-04, 9.19272727e-04,\n",
       "       9.29363636e-04, 9.39454545e-04, 9.49545455e-04, 9.59636364e-04,\n",
       "       9.69727273e-04, 9.79818182e-04, 9.89909091e-04, 1.00000000e-03]),\n",
       "                         'normalize': [True, False],\n",
       "                         'selection': ['cyclic', 'random'],\n",
       "                         'warm_start': [True, False]},\n",
       "             return_train_score=True, scoring='neg_root_mean_squared_error',\n",
       "             verbose=2)"
      ]
     },
     "execution_count": 79,
     "metadata": {},
     "output_type": "execute_result"
    }
   ],
   "source": [
    "rf = Lasso()\n",
    "reg = GridSearchCV(rf,param_grid = random_grid ,cv = cv, return_train_score=True,scoring=\"neg_root_mean_squared_error\", verbose=2, n_jobs = -1)\n",
    "reg.fit(X,y)\n",
    "    "
   ]
  },
  {
   "cell_type": "code",
   "execution_count": 81,
   "metadata": {},
   "outputs": [
    {
     "data": {
      "text/plain": [
       "Lasso(alpha=0.00045509090909090917, selection='random')"
      ]
     },
     "execution_count": 81,
     "metadata": {},
     "output_type": "execute_result"
    }
   ],
   "source": [
    "reg.best_estimator_"
   ]
  },
  {
   "cell_type": "code",
   "execution_count": 21,
   "metadata": {},
   "outputs": [],
   "source": [
    "Data=pd.read_csv('140_crash.csv')\n",
    "Data=Data[0:130]\n",
    "\n",
    "Head = Data.columns[14]\n",
    "Chest_deflection =  Data.columns[13]\n",
    "Head_acceleration = Data.columns[15]\n",
    "neck_force = Data.columns[16]\n",
    "\n",
    "X=Data[Data.columns[0:13]]\n",
    "y=Data[Chest_deflection]"
   ]
  },
  {
   "cell_type": "code",
   "execution_count": 22,
   "metadata": {},
   "outputs": [],
   "source": [
    "#Chest\n",
    "mod=Lasso(alpha=2.1181818181818184e-05, warm_start=True)\n",
    "# Neck\n",
    "# mod=Lasso(alpha=1e-06, selection='random')\n",
    "#Head acc\n",
    "# mod=Lasso(alpha=0.0006064545454545455, normalize=True, selection='random',warm_start=True)\n",
    "#HIC\n",
    "# mod=Lasso(alpha=0.00045509090909090917, selection='random')"
   ]
  },
  {
   "cell_type": "code",
   "execution_count": 23,
   "metadata": {},
   "outputs": [
    {
     "name": "stderr",
     "output_type": "stream",
     "text": [
      "C:\\Users\\ypyas\\anaconda3\\lib\\site-packages\\sklearn\\model_selection\\_split.py:293: FutureWarning: Setting a random_state has no effect since shuffle is False. This will raise an error in 0.24. You should leave random_state to its default (None), or set shuffle=True.\n",
      "  warnings.warn(\n"
     ]
    }
   ],
   "source": [
    "cv = KFold(n_splits=10, random_state=1)"
   ]
  },
  {
   "cell_type": "code",
   "execution_count": 24,
   "metadata": {},
   "outputs": [],
   "source": [
    "y_actual = []\n",
    "predict = []\n",
    "# X, X_Test, y, y_Test = train_test_split(X, y, test_size=0.2, random_state=42)\n",
    "train_size,train_score,test_score=learning_curve(mod,X,y,cv=cv,scoring='neg_mean_absolute_error')\n",
    "kf=cv"
   ]
  },
  {
   "cell_type": "markdown",
   "metadata": {},
   "source": [
    "## Learning Curve"
   ]
  },
  {
   "cell_type": "code",
   "execution_count": 25,
   "metadata": {},
   "outputs": [
    {
     "data": {
      "text/plain": [
       "<Figure size 576x396 with 0 Axes>"
      ]
     },
     "metadata": {},
     "output_type": "display_data"
    },
    {
     "data": {
      "image/png": "[encoded data removed]",
      "text/plain": [
       "<Figure size 576x396 with 1 Axes>"
      ]
     },
     "metadata": {},
     "output_type": "display_data"
    }
   ],
   "source": [
    "train_mean=-np.mean(train_score,axis=1)\n",
    "train_std=-np.std(train_score,axis=1)\n",
    "test_mean=-np.mean(test_score,axis=1)\n",
    "test_std=-np.std(test_score,axis=1)\n",
    "    \n",
    "plt.figure()\n",
    "plt.subplots(1)\n",
    "plt.plot(train_size,train_mean, 'o-', color=\"b\",label=\"Training score\")\n",
    "plt.plot(train_size, test_mean, 'o-', color=\"g\",label=\"Cross-validation score\")\n",
    "plt.fill_between(train_size, train_mean - train_std, train_mean + train_std, alpha=0.2)\n",
    "plt.fill_between(train_size, test_mean - test_std, test_mean + test_std, alpha=0.2)\n",
    "plt.title(\"Learning Curve for {}\".format(str(mod).split('(')[0]))\n",
    "plt.xlabel(\"Training Set Size\")\n",
    "plt.ylabel(\"RMS Error\")\n",
    "plt.legend(loc=\"best\")\n",
    "plt.show()"
   ]
  },
  {
   "cell_type": "code",
   "execution_count": 26,
   "metadata": {},
   "outputs": [
    {
     "data": {
      "text/html": [
       "<div>\n",
       "<style scoped>\n",
       "    .dataframe tbody tr th:only-of-type {\n",
       "        vertical-align: middle;\n",
       "    }\n",
       "\n",
       "    .dataframe tbody tr th {\n",
       "        vertical-align: top;\n",
       "    }\n",
       "\n",
       "    .dataframe thead th {\n",
       "        text-align: right;\n",
       "    }\n",
       "</style>\n",
       "<table border=\"1\" class=\"dataframe\">\n",
       "  <thead>\n",
       "    <tr style=\"text-align: right;\">\n",
       "      <th></th>\n",
       "      <th>0</th>\n",
       "    </tr>\n",
       "  </thead>\n",
       "  <tbody>\n",
       "    <tr>\n",
       "      <th>0</th>\n",
       "      <td>6.270558</td>\n",
       "    </tr>\n",
       "    <tr>\n",
       "      <th>1</th>\n",
       "      <td>2.141493</td>\n",
       "    </tr>\n",
       "    <tr>\n",
       "      <th>2</th>\n",
       "      <td>1.905483</td>\n",
       "    </tr>\n",
       "    <tr>\n",
       "      <th>3</th>\n",
       "      <td>1.869639</td>\n",
       "    </tr>\n",
       "    <tr>\n",
       "      <th>4</th>\n",
       "      <td>1.836311</td>\n",
       "    </tr>\n",
       "  </tbody>\n",
       "</table>\n",
       "</div>"
      ],
      "text/plain": [
       "          0\n",
       "0  6.270558\n",
       "1  2.141493\n",
       "2  1.905483\n",
       "3  1.869639\n",
       "4  1.836311"
      ]
     },
     "execution_count": 26,
     "metadata": {},
     "output_type": "execute_result"
    }
   ],
   "source": [
    "pd.DataFrame(test_mean)"
   ]
  },
  {
   "cell_type": "markdown",
   "metadata": {},
   "source": [
    "## Unknown data test"
   ]
  },
  {
   "cell_type": "code",
   "execution_count": 46,
   "metadata": {},
   "outputs": [
    {
     "name": "stdout",
     "output_type": "stream",
     "text": [
      "Root Mean squared error: 0.234120\n",
      "\n",
      "Root Mean squared error: 0.145244\n",
      "\n",
      "Root Mean squared error: 0.162970\n",
      "\n",
      "Root Mean squared error: 0.155707\n",
      "\n",
      "Root Mean squared error: 0.177626\n",
      "\n",
      "Root Mean squared error: 0.216819\n",
      "\n",
      "Root Mean squared error: 0.134655\n",
      "\n",
      "Root Mean squared error: 0.149634\n",
      "\n",
      "Root Mean squared error: 0.127077\n",
      "\n",
      "Root Mean squared error: 0.162844\n",
      "\n",
      "error COV--->0    0.929088\n",
      "dtype: float64  error mean --->0    0.118004\n",
      "Name: mean, dtype: float64  error std --->0    0.109637\n",
      "Name: std, dtype: float64\n"
     ]
    }
   ],
   "source": [
    "X = X.to_numpy()\n",
    "y = y.to_numpy()\n",
    "y_Test=y_Test.to_numpy()\n",
    "for train_index, test_index in kf.split(X):\n",
    "    X_train, X_test = X[train_index], X[test_index]\n",
    "    y_train, y_test = y[train_index], y[test_index]\n",
    "    HBM_Train = mod.fit(X_train, y_train)\n",
    "    HBM_Test = HBM_Train.predict(X_test)\n",
    "    print('Root Mean squared error: %f'\n",
    "          % mean_squared_error(y_test, HBM_Test,squared=False))\n",
    "    print()\n",
    "\n",
    "ytestunk=HBM_Train.predict(X_Test)\n",
    "err=np.zeros(len(ytestunk))\n",
    "for u in range (0,len(ytestunk)):\n",
    "    err[u]=np.sqrt((y_Test[u]-ytestunk[u])**2)\n",
    "a=pd.DataFrame(err).describe()\n",
    "cov_r=a.loc['std']/abs(a.loc['mean'])\n",
    "print(\"error COV--->{}  error mean --->{}  error std --->{}\".format(cov_r,abs(a.loc['mean']),a.loc['std']))"
   ]
  },
  {
   "cell_type": "markdown",
   "metadata": {},
   "source": [
    "# train score"
   ]
  },
  {
   "cell_type": "code",
   "execution_count": 47,
   "metadata": {},
   "outputs": [
    {
     "name": "stdout",
     "output_type": "stream",
     "text": [
      "error COV--->0    0.748861\n",
      "dtype: float64  error mean --->0    0.119904\n",
      "Name: mean, dtype: float64  error std --->0    0.089792\n",
      "Name: std, dtype: float64\n"
     ]
    }
   ],
   "source": [
    "ytr=HBM_Train.predict(X)\n",
    "err=np.zeros(len(ytr))\n",
    "for u in range (0,len(ytr)):\n",
    "    err[u]=np.sqrt((y[u]-ytr[u])**2)\n",
    "a=pd.DataFrame(err).describe()\n",
    "cov_r=a.loc['std']/abs(a.loc['mean'])\n",
    "print(\"error COV--->{}  error mean --->{}  error std --->{}\".format(cov_r,abs(a.loc['mean']),a.loc['std']))"
   ]
  },
  {
   "cell_type": "code",
   "execution_count": 48,
   "metadata": {},
   "outputs": [],
   "source": [
    "df_tosave=pd.DataFrame(ytestunk,columns = ['Unseen predicted'])\n",
    "df_tosave['test actual']=pd.DataFrame(y_Test)\n",
    "df_tosave.to_csv('Lassneckunseen.csv')\n",
    "\n",
    "df_trn=pd.DataFrame(ytr,columns = ['train predicted'])\n",
    "df_trn['actual']=pd.DataFrame(y)\n",
    "df_trn.to_csv('Lassonecktrain.csv')"
   ]
  },
  {
   "cell_type": "code",
   "execution_count": null,
   "metadata": {},
   "outputs": [],
   "source": []
  }
 ],
 "metadata": {
  "kernelspec": {
   "display_name": "Python 3",
   "language": "python",
   "name": "python3"
  },
  "language_info": {
   "codemirror_mode": {
    "name": "ipython",
    "version": 3
   },
   "file_extension": ".py",
   "mimetype": "text/x-python",
   "name": "python",
   "nbconvert_exporter": "python",
   "pygments_lexer": "ipython3",
   "version": "3.8.5"
  }
 },
 "nbformat": 4,
 "nbformat_minor": 4
}
